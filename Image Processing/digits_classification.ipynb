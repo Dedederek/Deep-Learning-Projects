{
 "cells": [
  {
   "cell_type": "markdown",
   "metadata": {
    "slideshow": {
     "slide_type": "slide"
    }
   },
   "source": [
    "# MNIST digits classification with TensorFlow"
   ]
  },
  {
   "cell_type": "markdown",
   "metadata": {},
   "source": [
    "<img src=\"images/mnist_sample.png\" style=\"width:30%\">"
   ]
  },
  {
   "cell_type": "code",
   "execution_count": 2,
   "metadata": {},
   "outputs": [
    {
     "name": "stdout",
     "output_type": "stream",
     "text": [
      "We're using TF 1.2.1\n"
     ]
    },
    {
     "name": "stderr",
     "output_type": "stream",
     "text": [
      "Using TensorFlow backend.\n"
     ]
    }
   ],
   "source": [
    "import numpy as np\n",
    "from sklearn.metrics import accuracy_score\n",
    "from matplotlib import pyplot as plt\n",
    "%matplotlib inline\n",
    "import tensorflow as tf\n",
    "print(\"We're using TF\", tf.__version__)\n",
    "\n",
    "import sys\n",
    "sys.path.append(\"../..\")\n",
    "import grading\n",
    "\n",
    "import matplotlib_utils\n",
    "from importlib import reload\n",
    "reload(matplotlib_utils)\n",
    "\n",
    "import grading_utils\n",
    "reload(grading_utils)\n",
    "\n",
    "import keras_utils\n",
    "from keras_utils import reset_tf_session"
   ]
  },
  {
   "cell_type": "markdown",
   "metadata": {},
   "source": [
    "# Fill in your Coursera token and email\n",
    "To successfully submit your answers to our grader, please fill in your Coursera submission token and email"
   ]
  },
  {
   "cell_type": "code",
   "execution_count": 3,
   "metadata": {
    "collapsed": true
   },
   "outputs": [],
   "source": [
    "grader = grading.Grader(assignment_key=\"XtD7ho3TEeiHQBLWejjYAA\", \n",
    "                        all_parts=[\"9XaAS\", \"vmogZ\", \"RMv95\", \"i8bgs\", \"rE763\"])"
   ]
  },
  {
   "cell_type": "code",
   "execution_count": 23,
   "metadata": {
    "collapsed": true
   },
   "outputs": [],
   "source": [
    "# token expires every 30 min\n",
    "COURSERA_TOKEN = \"GO8OG7w49LxWgyAP\"\n",
    "COURSERA_EMAIL = \"qw8@ualberta.ca\""
   ]
  },
  {
   "cell_type": "markdown",
   "metadata": {},
   "source": [
    "# Look at the data\n",
    "\n",
    "In this task we have 50000 28x28 images of digits from 0 to 9.\n",
    "We will train a classifier on this data."
   ]
  },
  {
   "cell_type": "code",
   "execution_count": 5,
   "metadata": {},
   "outputs": [
    {
     "name": "stdout",
     "output_type": "stream",
     "text": [
      "Downloading data from https://s3.amazonaws.com/img-datasets/mnist.npz\n",
      "10223616/11490434 [=========================>....] - ETA: 0s"
     ]
    }
   ],
   "source": [
    "import preprocessed_mnist\n",
    "X_train, y_train, X_val, y_val, X_test, y_test = preprocessed_mnist.load_dataset()"
   ]
  },
  {
   "cell_type": "code",
   "execution_count": 6,
   "metadata": {},
   "outputs": [
    {
     "name": "stdout",
     "output_type": "stream",
     "text": [
      "X_train [shape (50000, 28, 28)] sample patch:\n",
      " [[ 0.          0.29803922  0.96470588  0.98823529  0.43921569]\n",
      " [ 0.          0.33333333  0.98823529  0.90196078  0.09803922]\n",
      " [ 0.          0.33333333  0.98823529  0.8745098   0.        ]\n",
      " [ 0.          0.33333333  0.98823529  0.56862745  0.        ]\n",
      " [ 0.          0.3372549   0.99215686  0.88235294  0.        ]]\n",
      "A closeup of a sample patch:\n"
     ]
    },
    {
     "data": {
      "image/png": "[encoded data removed]",
      "text/plain": [
       "<matplotlib.figure.Figure at 0x7f282907b710>"
      ]
     },
     "metadata": {},
     "output_type": "display_data"
    },
    {
     "name": "stdout",
     "output_type": "stream",
     "text": [
      "And the whole sample:\n"
     ]
    },
    {
     "data": {
      "image/png": "[encoded data removed]",
      "text/plain": [
       "<matplotlib.figure.Figure at 0x7f280dbe5be0>"
      ]
     },
     "metadata": {},
     "output_type": "display_data"
    },
    {
     "name": "stdout",
     "output_type": "stream",
     "text": [
      "y_train [shape (50000,)] 10 samples:\n",
      " [5 0 4 1 9 2 1 3 1 4]\n"
     ]
    }
   ],
   "source": [
    "# X contains rgb values divided by 255\n",
    "print(\"X_train [shape %s] sample patch:\\n\" % (str(X_train.shape)), X_train[1, 15:20, 5:10])\n",
    "print(\"A closeup of a sample patch:\")\n",
    "plt.imshow(X_train[1, 15:20, 5:10], cmap=\"Greys\")\n",
    "plt.show()\n",
    "print(\"And the whole sample:\")\n",
    "plt.imshow(X_train[1], cmap=\"Greys\")\n",
    "plt.show()\n",
    "print(\"y_train [shape %s] 10 samples:\\n\" % (str(y_train.shape)), y_train[:10])"
   ]
  },
  {
   "cell_type": "markdown",
   "metadata": {},
   "source": [
    "# Linear model\n",
    "\n",
    "Your task is to train a linear classifier $\\vec{x} \\rightarrow y$ with SGD using TensorFlow.\n",
    "\n",
    "You will need to calculate a logit (a linear transformation) $z_k$ for each class: \n",
    "$$z_k = \\vec{x} \\cdot \\vec{w_k} + b_k \\quad k = 0..9$$\n",
    "\n",
    "And transform logits $z_k$ to valid probabilities $p_k$ with softmax: \n",
    "$$p_k = \\frac{e^{z_k}}{\\sum_{i=0}^{9}{e^{z_i}}} \\quad k = 0..9$$\n",
    "\n",
    "We will use a cross-entropy loss to train our multi-class classifier:\n",
    "$$\\text{cross-entropy}(y, p) = -\\sum_{k=0}^{9}{\\log(p_k)[y = k]}$$ \n",
    "\n",
    "where \n",
    "$$\n",
    "[x]=\\begin{cases}\n",
    "       1, \\quad \\text{if $x$ is true} \\\\\n",
    "       0, \\quad \\text{otherwise}\n",
    "    \\end{cases}\n",
    "$$\n",
    "\n",
    "Cross-entropy minimization pushes $p_k$ close to 1 when $y = k$, which is what we want.\n",
    "\n",
    "Here's the plan:\n",
    "* Flatten the images (28x28 -> 784) with `X_train.reshape((X_train.shape[0], -1))` to simplify our linear model implementation\n",
    "* Use a matrix placeholder for flattened `X_train`\n",
    "* Convert `y_train` to one-hot encoded vectors that are needed for cross-entropy\n",
    "* Use a shared variable `W` for all weights (a column $\\vec{w_k}$ per class) and `b` for all biases.\n",
    "* Aim for ~0.93 validation accuracy"
   ]
  },
  {
   "cell_type": "code",
   "execution_count": 7,
   "metadata": {},
   "outputs": [
    {
     "name": "stdout",
     "output_type": "stream",
     "text": [
      "(50000, 784)\n",
      "(10000, 784)\n"
     ]
    }
   ],
   "source": [
    "X_train_flat = X_train.reshape((X_train.shape[0], -1))\n",
    "print(X_train_flat.shape)\n",
    "\n",
    "X_val_flat = X_val.reshape((X_val.shape[0], -1))\n",
    "print(X_val_flat.shape)"
   ]
  },
  {
   "cell_type": "code",
   "execution_count": 8,
   "metadata": {},
   "outputs": [
    {
     "name": "stdout",
     "output_type": "stream",
     "text": [
      "(50000, 10)\n",
      "[[ 0.  0.  0.  0.  0.  1.  0.  0.  0.  0.]\n",
      " [ 1.  0.  0.  0.  0.  0.  0.  0.  0.  0.]\n",
      " [ 0.  0.  0.  0.  1.  0.  0.  0.  0.  0.]] [5 0 4]\n"
     ]
    }
   ],
   "source": [
    "import keras\n",
    "\n",
    "y_train_oh = keras.utils.to_categorical(y_train, 10)\n",
    "y_val_oh = keras.utils.to_categorical(y_val, 10)\n",
    "\n",
    "print(y_train_oh.shape)\n",
    "print(y_train_oh[:3], y_train[:3])"
   ]
  },
  {
   "cell_type": "code",
   "execution_count": 51,
   "metadata": {
    "collapsed": true
   },
   "outputs": [],
   "source": [
    "# run this again if you remake your graph\n",
    "s = reset_tf_session()"
   ]
  },
  {
   "cell_type": "code",
   "execution_count": 52,
   "metadata": {},
   "outputs": [],
   "source": [
    "# Model parameters: W and b\n",
    "W = tf.get_variable(\"W\", shape=(784,10), dtype=tf.float32, trainable=True)\n",
    "### YOUR CODE HERE ### tf.get_variable(...) with shape[0] = 784\n",
    "b = tf.get_variable(\"b\", shape=(1,10), dtype=tf.float32, trainable=True)\n",
    "### YOUR CODE HERE ### tf.get_variable(...)"
   ]
  },
  {
   "cell_type": "code",
   "execution_count": 53,
   "metadata": {},
   "outputs": [],
   "source": [
    "# Placeholders for the input data\n",
    "input_X = tf.placeholder(tf.float32, shape=(None, 784))\n",
    "                         ### YOUR CODE HERE ### tf.placeholder(...) for flat X with shape[0] = None for any batch size\n",
    "input_y = tf.placeholder(tf.int32,shape=(None,10))\n",
    "                         ### YOUR CODE HERE ### tf.placeholder(...) for one-hot encoded true labels"
   ]
  },
  {
   "cell_type": "code",
   "execution_count": 20,
   "metadata": {
    "collapsed": true
   },
   "outputs": [],
   "source": [
    "# Compute predictions\n",
    "logits = input_X@W+b### YOUR CODE HERE ### logits for input_X, resulting shape should be [input_X.shape[0], 10]\n",
    "probas = tf.nn.softmax(logits)### YOUR CODE HERE ### apply tf.nn.softmax to logits\n",
    "classes = tf.argmax(probas,axis=-1)### YOUR CODE HERE ### apply tf.argmax to find a class index with highest probability\n",
    "\n",
    "# Loss should be a scalar number: average loss over all the objects with tf.reduce_mean().\n",
    "# Use tf.nn.softmax_cross_entropy_with_logits on top of one-hot encoded input_y and logits.\n",
    "# It is identical to calculating cross-entropy on top of probas, but is more numerically friendly (read the docs).\n",
    "loss = tf.reduce_mean(tf.nn.softmax_cross_entropy_with_logits(labels=input_y,logits=logits))### YOUR CODE HERE ### cross-entropy loss\n",
    "\n",
    "# Use a default tf.train.AdamOptimizer to get an SGD step\n",
    "step = tf.train.AdamOptimizer().minimize(loss)### YOUR CODE HERE ### optimizer step that minimizes the loss"
   ]
  },
  {
   "cell_type": "code",
   "execution_count": 55,
   "metadata": {
    "scrolled": false
   },
   "outputs": [
    {
     "data": {
      "text/html": [
       "<img src=\"data:image/jpeg;base64,/9j/4AAQSkZJRgABAQAAAQABAAD/2wBDAAIBAQEBAQIBAQECAgICAgQDAgICAgUEBAMEBgUGBgYFBgYGBwkIBgcJBwYGCAsICQoKCgoKBggLDAsKDAkKCgr/2wBDAQICAgICAgUDAwUKBwYHCgoKCgoKCgoKCgoKCgoKCgoKCgoKCgoKCgoKCgoKCgoKCgoKCgoKCgoKCgoKCgoKCgr/wAARCAEgA2ADASIAAhEBAxEB/8QAHwAAAQUBAQEBAQEAAAAAAAAAAAECAwQFBgcICQoL/8QAtRAAAgEDAwIEAwUFBAQAAAF9AQIDAAQRBRIhMUEGE1FhByJxFDKBkaEII0KxwRVS0fAkM2JyggkKFhcYGRolJicoKSo0NTY3ODk6Q0RFRkdISUpTVFVWV1hZWmNkZWZnaGlqc3R1dnd4eXqDhIWGh4iJipKTlJWWl5iZmqKjpKWmp6ipqrKztLW2t7i5usLDxMXGx8jJytLT1NXW19jZ2uHi4%2BTl5ufo6erx8vP09fb3%2BPn6/8QAHwEAAwEBAQEBAQEBAQAAAAAAAAECAwQFBgcICQoL/8QAtREAAgECBAQDBAcFBAQAAQJ3AAECAxEEBSExBhJBUQdhcRMiMoEIFEKRobHBCSMzUvAVYnLRChYkNOEl8RcYGRomJygpKjU2Nzg5OkNERUZHSElKU1RVVldYWVpjZGVmZ2hpanN0dXZ3eHl6goOEhYaHiImKkpOUlZaXmJmaoqOkpaanqKmqsrO0tba3uLm6wsPExcbHyMnK0tPU1dbX2Nna4uPk5ebn6Onq8vP09fb3%2BPn6/9oADAMBAAIRAxEAPwD9/KKKKACiiigAooooAKKKKACiiigAooooAKKKKACiiigAooooAKKKKACiiigAooooAKKKKACiiigAooooAKKKKACiiigAooooAKKKKACiiigAooooAKKKKACiiigAooooAKKKKACiiigAooooAKKKKACiiigAooooAKKKKACiiigAooooAKKKKACiiigAooooAKKKKACiiigAooooAKKKKACiiigAooooAKKKKACiiigAooooAKKKKACiiigAooooAKKKKACiiigAooooAKKKKACiiigAooooAKKKKACiiigAooooAKKKKACiiigAooooAKKKKACiiigAooooAKKKKACiiigAooooAKKKKACvPfjt%2B1J8FP2b5NGsfil4g1Maj4ilnTQNB8OeF9R1zVNR8lVed4bHTbee5kjiVkMkixlI96biu5c%2BhV4N%2B0P8D/j5/wANJ%2BDv2tv2bLLwfrWueH/B2seFNX8KeOdcutLtLywv7mwuxcQXtraXj288U2noCpt3WVJSCUKK1ABpf/BTL9izWLvxPb2nxXv0h8FWsk/jLUrvwXrEFjoIS0iu9l5dy2iwWsrQzRskMjrJIWKorMrKL2n/APBQ/wDZK1HwBrXxFTx/q9vB4f1ay0vVdE1DwNrNrrkV5ebfscC6PNaLqEr3AYGER27eaAxTcFYjy2b9gH4y%2BMf2a/jn8NfGHinwppHin4o/FS38daHc6U1xeWFpeW0OiywQ3IkihkkiN3pRRwoyYHGDuJVaPi79i/8AaV%2BLmr/Ef45fG34S/CjWvFnjWx8KaPp/gKy%2BI2s2Wm6fY6Hcaldw3qa7b6al5DqDXOqTOksVoPJSKNFZiWcgHsviH9vv9mzwv4a8OeI9XvvG3meK0v5NE8P2vwm8SXGuSRWUscV3NJpMWntf28MLzQq8s0CIpmiy37xM%2Bmaz8RPBHhv4e3XxX8T%2BJbbSvDljo76rf6vqrfZYbSySIzPPMZdvlKsYLNvxtAOcYNfGHin9hH9s/WPgX4X8Nay3hfxV470a58RHRfGV/wDHbxNpGr%2BCLW%2BuUktLO11q1sJLzXIYkjhEy3qw/aTbReYCFGPUfjR/wTotfj1%2Bzb4n%2BHHxD%2BOfjW78d%2BMPhfH4Z17xS3jbWho818tpDE2oJoS3y2FuzzQLK3kRRSEPIBIrSM5AOkg/4KUfsZf8K58V/FbWPite6Jo3giysr7xQ/ifwdq%2Bk3NlZXkxhtb37LeWsVxJaSyK6pcxxtC3luQ%2BEYjj/AI3f8FZP2d/hn8ENU%2BMfgPRfFXiqbQfiD4X8L674Y/4QXXbHU7A6zqVrax3T2cmnNdeV5Fw88DeT5d48aW8MhknjB8r1T/gmJ8ZPHfwq8faR4i8DeG9G8Y%2BI9D0fR7DxDqv7RfjPxut3aWusW%2BoTRyf27AfsEZ8likUSzHe%2BGkxknv8A9qH9gz40/GD4g/F/4g%2BBfEPheOTxfB8LbzwlZ6tfXMSvf%2BE/EdzrUsN40dvJ5ENwGt4VljEzrl2MfyKrgHqFh/wUE/Zb1H4m2XwZh8T%2BJo/Fd5oun6xLoF38N9egudO0%2B9adILu/SSyU6dDut5VeS68pYiFEhQum6j4a/wCCmH7FPi3wZ4s%2BIWkfGC4TR/Bfgi68Zaxe6h4S1W0Fx4et0Z5tWsVntUbVLNVQ4nsxPGxZArEugbB0P9kP4ofEP4mfG74g/G9fD2gxfGj4O%2BHfCF1Y%2BE9duNRl0u4tE11Ltlnns7XzYwNViMT7FZikm6OPA3fN37Y37Kn7UOj/ALDHxS%2BJv7TF34AtIfhD%2BxT8QfBHhePwFqF5cNrzXukWxn1G6W5toBYqE0i3CWcbXAVppCZ22oKAPrPw9/wUl/Yy8TaHrHiPT/i1dQWehppU1/JqnhLVbJmtNSu1s7HUIUuLVGubCWdgovoQ9qoDO0qorMPT9E%2BLvw88R/FLX/gvofiH7T4k8LaXp%2Boa/YR2k22zgvmuBa7pinlF3%2ByzHy1cyKoRmVVkjLfJOofsz%2BIPFegeKfjb/wAFIvF/wz8J%2BBbf9nu5%2BHUlx4f8QTLay6beyQyXmq3k17BbpYOTBbCG2QzCAmT/AEiQsuOw/wCCPngP4u2f7I9r8f8A9pDUDf8AxJ%2BL15H4n8V6g9nJbtJCLSCy01fKl%2BeH/iX2lpI0TYKSzTZAYtkA%2BqqKKKACiiigAooooAKKKKACiiigAooooAKKKKACiiigAooooAKKKKACiiigAooooAKKKKACiiigAooooAKKKKACiiigAooooAK8R0j/AIKMfse6ld69Z6n8Urzw83hzw5c%2BINQk8a%2BEdV0GObSbd0jnv7WTUrWBb63R5IlaW2MqAyxjOXXPtN7FczWcsNndCCZ4mWKYx7/LYjhtp64POO9fmJq//BHL9uX4v6t4X1z43fHHQ31vw14P1Cz1DxRqHxW8TeJx4h1v7ZpV9a6idLvoobLSbaS50xfPsLIBRHJtWWQKgUA%2B2X/b/wD2YbX4aN8WNY8QeKtK0ttcg0axs9c%2BGWv2GqanfzIZIYLLTbixS9v2kQM6/Z4ZAyo7AkIxHReA/wBqz4H/ABH1%2By8J%2BHPEOqQ6vf8AhSfxJDpGteFdS0y7TTYbv7JLLLDeW8UkDrP8hhkVZe%2BzbzXk3xO%2BDn7bvxib4e/G3XPBvwq0P4h/Cjx1NrHh/wAM2vjjUr/Rdcs7jSbvTLmO4vn0qGaxmKXskkbpa3AjMQU%2BYJGxV%2BJPwG/bg1/4y%2BHf2mvA%2BjfCu08WX3ww1XwX4x0LUvFepSWGkLcX8N1a39lcJpwk1AxCN1kt5YrQSlxiWLHIB3Gk/wDBRv8AZA8R694F8LeFfiNqus6n8SfBuleLfBunaJ4H1m9nvND1F9lrqMiQWjNa2%2B7HmSTiNbcMpm8oMCdj4a/tufs3fFf4jXPwn8M%2BL9Ws9ft9LudThsvE/gzVtEW/sbeRI57uyl1G1gjv4I3liDy2zSIvmISQGUnyj9hT9hL4sfsw6/8ADjWfHniDw1dnwd%2Byl4R%2BGN%2B%2BkXM8rNq2lvM1zNF5kEe61bemxmKu235o0wK8a%2BGn/BKv9sbxP8UfC/ib9qb4w2eqRaf4A8V%2BF/GniaD4v%2BJNavPEUur2KW39p2umX0Men6EcqWNpaKUXKgTOI1WgD6l8J/8ABRf9kfxrosfirQfHeuf2Hcarpen6f4lvfh/rdrpWoy6lex2VlJaX09mlteQS3M0UYuIJHhBlQs4VgT6X4W%2BLvw88a/EDxT8LvC/iH7XrnguSzj8T2iWkwWxkuoPtEEZlZBG7tCVkKIzMiyRlgokTd8w%2BOPAnxF8K/wDBPbxp8CP%2BChnif4VeCPAWg/DSLQLb4meHfFt2GadI0trXUntLqzgTTZlmFvJDBHcXTGcoiOTtDdr/AMEr/h98WPDf7ImlfFX9oqwS3%2BJ3xYvpfHXxEhW3aL7Pf36xmG02N8yfZbGOys9pyQLXBoA%2BjaKKKACiiigAooooAKKKKACiiigAooooAKKKKACiiigAooooAKKKKACiiigAooooAKKKKACiiigAooooAKKKKACiiigAooooAKKx/iB8RPh/8JvB1/8AET4p%2BOtG8M%2BH9LiEmp674g1OKys7RCwUNLNMypGCzKMsQMkDvVe9%2BLPwr034aL8aNR%2BJfh%2B38HNpUepr4sn1mBNMNjIiul0Lov5XksjKwk3bSGBBwaAOgrxf49eP/wBov/hovwL8CPgL4z8FeH01/wAFeJde1fU/F/gu71ok6dd6Hbwwwx2%2BpWPlhv7UlZmZnz5aABeSfTPhz8T/AIafGLwlb%2BPvhH8Q9C8U6Fds62mteHNWhvrSYoxVwk0LMjFWBU4PBBBryb4ja2ll/wAFK/hBokij/Tvgp8Qyjd90ereDTj8ix/Ck2luXCEqjtHs39yuy/wD8IP8A8FC/%2BjoPgz/4YfVv/moo/wCEH/4KF/8AR0HwZ/8ADD6t/wDNRXs1FMg8Z/4Qf/goX/0dB8Gf/DD6t/8ANRR/wg//AAUL/wCjoPgz/wCGH1b/AOaivZqKAPGf%2BEH/AOChf/R0HwZ/8MPq3/zUUf8ACD/8FC/%2BjoPgz/4YfVv/AJqK9mooA8Z/4Qf/AIKF/wDR0HwZ/wDDD6t/81FH/CD/APBQv/o6D4M/%2BGH1b/5qK9mooA8Z/wCEH/4KF/8AR0HwZ/8ADD6t/wDNRR/wg/8AwUL/AOjoPgz/AOGH1b/5qK9mooA8Z/4Qf/goX/0dB8Gf/DD6t/8ANRR/wg//AAUL/wCjoPgz/wCGH1b/AOaivZqKAPGf%2BEH/AOChf/R0HwZ/8MPq3/zUUf8ACD/8FC/%2BjoPgz/4YfVv/AJqK9mrN8YzzWvhHVbq2lZJI9NnaN1OCrCNiCPfNAHlf/CD/APBQv/o6D4M/%2BGH1b/5qKP8AhB/%2BChf/AEdB8Gf/AAw%2Brf8AzUVe8b/tAfsNfC3xPc%2BA/iX8cPhT4f1uwEYvdI1/xPptreQb41kTzI5pA6lkdXBYcqwPIINZP/DX/wDwTg/6Oi%2BCP/hbaP8A/Ha5pY3BQk4yqxTX96P/AMke5R4Y4nxFKNWlgK8oySaaoV2mnqmmqLTTWzTafRssf8IP/wAFC/8Ao6D4M/8Ahh9W/wDmoo/4Qf8A4KF/9HQfBn/ww%2Brf/NRVf/hr/wD4Jwf9HRfBH/wttH/%2BO16V4r0j4feEPC2peLNQ8D2k1vpenzXc8Vlon2iZ0jQuyxxRRs8jkKQERWZjgAEkCtKWIoV7%2BympW7NP8mzjx2U5tlfL9dw1SjzXt7SnUp3tvbnhC9rq9r2ur2ujz3/hB/8AgoX/ANHQfBn/AMMPq3/zUUf8IP8A8FC/%2BjoPgz/4YfVv/morjPgZ%2B3x%2Bx18bvC/wwvrXwLr2la/8VfDlvrPh/wAK3nwp1drpbd/sayzuVsNotIpL63Rr4kWpD7xLsyw3p/2r/wBli90PUNQ0DRYbW90nXvDmnajpfjTwLq2gXEa6zqsWm2c6w3WnefJHLM8iRSrEYHliZHmhVZJY9TzzV/4Qf/goX/0dB8Gf/DD6t/8ANRR/wg//AAUL/wCjoPgz/wCGH1b/AOaiqXw8/a3/AGIfil43vfh/4Q1uxN9YNrSy3Op%2BC72wsJX0i7NpqaQ3t1ax21w1tMpWVYpXKAbyNnzVqftCfEzwV8Ivhzonij4f/Cvw/wCLdY8X%2BIdN0Twbpv2mK0tNQur1xskku0hm8q3SES3DyJHK3lxNsR2KqQCD/hB/%2BChf/R0HwZ/8MPq3/wA1FH/CD/8ABQv/AKOg%2BDP/AIYfVv8A5qKyvCf7R/wok/ZR8ZftP/FP4R6f4eHw3i8Rjx5olmkV99im0SS5S8EExii%2B0RsLZpYnKRs8ckZZI2LIuR8O/jJ8YfHl34q%2BFt5%2Bx18PtF%2BJ/hjTNE1p/DGpePZG0ybSNUN2kE51CLR3kSdZdPvongFqyhoMrKyuGoA6z/hB/wDgoX/0dB8Gf/DD6t/81FH/AAg//BQv/o6D4M/%2BGH1b/wCaivFPCf7d3i/x98IPBvjPwR%2BxH4S1LxN4r8L%2BJ/Fo0CLxxtsv%2BEb0i9itY722vX0oNcTXy3NpNawPBCjJM3mTRbCTvt%2B3P4B1rxVZ698P/wBnbRtW%2BGUWs%2BENG8Q%2BNp9SS3vbPUPEi2TackGn/ZHW4iUappbTyNcRGNbzKpJ5T0Aemf8ACD/8FC/%2BjoPgz/4YfVv/AJqKP%2BEH/wCChf8A0dB8Gf8Aww%2Brf/NRXknw1/b%2B%2BGvirwv8bPib4x%2BGHwusvDnwUm8YrrWl%2BG/H0ereKBHoGqX1kZLvSf7OhWyFylhLPEDcSHEkSjduLC9cftf%2BIfDk9/8ACfx7%2Bx74U074t/2/4f07QfB1n4uW50u%2Bj1eO6kt7mTU/7OR4EiTTtUMwW1kKmxYR%2Bd5iEgHpv/CD/wDBQv8A6Og%2BDP8A4YfVv/moo/4Qf/goX/0dB8Gf/DD6t/8ANRXkWp/t1TX3hS0Hw3/Y40LWvF2naP4t1Lx54ZuvE0dpFpEXhzUhpt9Fa3P2GT7bNNck/ZFeO3SWNS8sltwpbqf/AAUT%2BErftO%2BHPgJ4U%2BCvhG/tPEl1oEel/a/EUdr4i1W11W1F0mqado5s2%2B26dbox%2B0XP2iPyjb3XyMYcOAev/wDCD/8ABQv/AKOg%2BDP/AIYfVv8A5qKP%2BEH/AOChf/R0HwZ/8MPq3/zUV458Pv8AgoT4B8T/AAv%2BNHxp1/4PfDAaL8HU8UNqGg%2BFviHFqniQ/wBj6heWg%2B26e%2BnwJpq3C2Tyoz3EgVXXJK5cdb4f/a48HadoHxF0n4ufArwrYeO/h7c6TbSeEvBuux6zFq8%2BrRK2k29tdS2lq3nXMzeRskhQIw3ljERIQDtv%2BEH/AOChf/R0HwZ/8MPq3/zUUf8ACD/8FC/%2BjoPgz/4YfVv/AJqK8Pu/%2BCienv8AA7wX8X9G/ZM8KtPq/wAErr4o%2BMNL1TxhFZx6RpFqIPtEFlObBv7QugZiFV0tYsKpkli8xRWvqP8AwUF%2BFf8Aw1tpH7NXhv4LeEL6DWNW0iz08zeI47fxDqVtqGmrfrq9hoxsybvSoUYxzXf2iPy3trpfLJhw4B6z/wAIP/wUL/6Og%2BDP/hh9W/8Amoo/4Qf/AIKF/wDR0HwZ/wDDD6t/81FeafA79sy1%2BOXiPS/C2k/s2%2BCNPvPHngrXPE3wmgu/F4aTVLbTL22s5o9URNOLaVKXvbY7Yhe7R56th4djc7rP7fGreBfh54x8Y/Fb9lj4Y6B/wi/xctvASa9N8SmHhgTtYxXNxfXuqT6NC1jbQzSfYS5tpN12BFwGD0Ae2/8ACD/8FC/%2BjoPgz/4YfVv/AJqKoeB/HH7Vng79qzw58Efjd8R/h74m0bxN8PfEOuQzeFfh5faLdWl1pt9oluis9xq98ksbpqkpKhEYNEhDYyDofAP4leF/2hv2V9M/aF0z4ZWPh2fWNHuruzis3SdAYpJUjubW5WOMz20vlrPBPsTzYZY3KLu2hPHH/KQv4X/9kZ8ef%2BnbwhQB7NRRRQAUUVx/xp%2BPPwx/Z%2B8O2XiX4narfwx6pqiabpNlo2gXuq32oXbRySiC2s7GGa4uHEUM0pWONiscMjthUZgAdhRXn3iH9qb4D%2BGvg1onx%2BuvHX2zwt4mWyPhq80TS7rUZ9Xa7ANtHa2trFJcXMjg5EccbOAGJUBWI5vxd%2B39%2Byn4J8G6J481v4galLp%2Bv6dqOoWSaV4N1a/uoLTT5Eiv7i7tba1knsY7WV0iuHuUiWCRvLkKP8tAHstfOPwm8Vft3/HXR9e8d%2BF/jf8ACTQNLt/iF4q0PS9Kv/g/ql/cRWul69f6ZC0twniKBZZHjs1dmWKNdzkBQAK%2BiNN1LT9Z0631fSL6G6tLuBJrW5t5A8csbAMrqw4ZSCCCOCDXhX7IQ8z9nXW7didk3x08eRSgHG5H8fasrL9CpIPsaANX/hB/%2BChf/R0HwZ/8MPq3/wA1FH/CD/8ABQv/AKOg%2BDP/AIYfVv8A5qKfr/7UH/BP3wprt74W8U/tEfBzTdT027ktdR07UPF2lQz2s8bFJIpI3lDI6sCrKwBBBBGRVT/hr/8A4Jwf9HRfBH/wttH/APjtcrx2BTs6sP8AwOP/AMke9DhXimpBThl%2BIaaTTVCu009U01QaaaaaabTTTTaaZY/4Qf8A4KF/9HQfBn/ww%2Brf/NRR/wAIP/wUL/6Og%2BDP/hh9W/8Amop%2BgftQf8E/fFeu2Xhbwt%2B0R8HNS1PUruO107TtP8W6VNPdTyMEjijjSUs7sxCqqgkkgAZNXv2q/iX8Kv2UP2b/ABr%2B0l4p%2BFy6tp/grw9cardabpGiCa4uViXOxFjjYjJxlyNqLl3KqrMNaVehXTdOalbs0/ybPPx2V5nlc4wxuHqUnJXSqQnTbW10pwg2r6XSavpe%2Bhnf8IP/AMFC/wDo6D4M/wDhh9W/%2Baij/hB/%2BChf/R0HwZ/8MPq3/wA1FUNJ/az/AGP9c8by/DXS/DWvy%2BIbbw4uvahov/CmtdW60%2BweO7eKW6jbTw1q0v2G5WKOYJJM8YjjV3dFZ2mftOfsweJpPDv/AAiumWCHWfHU3hW9sPEvhLUdH1Gxvo9GutXMLWVzYCZJTa26zKtwtvG8MnmLKzGKObU4S7/wg/8AwUL/AOjoPgz/AOGH1b/5qKP%2BEH/4KF/9HQfBn/ww%2Brf/ADUVQ%2BCn7X/7C/7QWjTeI/ht4m0v%2BzovD%2Bn66l/4i8I3eiwXOl3zMtrewSajbQLc28jqUEsRdQ%2BEJDECrv7RvxEb4V6/4P8Ahp8IPgB4a8XeM/G17eJpWl61qq6RYwWtnatcXNzPdJZ3ToB%2B5iVVhctJcR52IHdQB3/CD/8ABQv/AKOg%2BDP/AIYfVv8A5qKP%2BEH/AOChf/R0HwZ/8MPq3/zUVz%2BvftR/Cm2/Yn0D9sjw18FrO6j8UW2gJpPh7UhBaGC%2B1a%2BtLCC3u7gJItvHFc3aLPMFkEaRyOFcKAfM/iF/wUY8C/DXwPJc%2BLvgz8LtD8RaP8T73wP4xu/FHxFTT/CWhahb6WmqDzdcbTWbMtvNbLGj2kbGaR4mCmPLAHtn/CD/APBQv/o6D4M/%2BGH1b/5qKP8AhB/%2BChf/AEdB8Gf/AAw%2Brf8AzUV5b47/AG3dK8DeBPg/8VdU/Zx8E2Gl/FjT9Dks/Cev%2BMEsfGDXd/LAktpYaR/Z7rqT2yXMMkuLmFgu8lV2gt6N4a%2BJ%2Bq6l%2B1X4x/Zu8Q/s1%2BGLK10TwZaeIvDGu2mupcS6xDNcT2/lz2zWca2bCSBsETTZUgnb0oAuf8IP/wAFC/8Ao6D4M/8Ahh9W/wDmoo/4Qf8A4KF/9HQfBn/ww%2Brf/NRVD4B/FHVvH3xh8W/AL41fs5%2BEPC/ifwr4e0fXJP8AhF/EI1yxls9Slv4YUeaWws3huVfTpi0RiK7HjZJHywX2DwYNmhmBSdkN9dxRAnO1EuZFVfoFAA9hQB5d/wAIP/wUL/6Og%2BDP/hh9W/8Amoo/4Qf/AIKF/wDR0HwZ/wDDD6t/81FezUUAeM/8IP8A8FC/%2BjoPgz/4YfVv/moo/wCEH/4KF/8AR0HwZ/8ADD6t/wDNRXs1FAHjP/CD/wDBQv8A6Og%2BDP8A4YfVv/moo/4Qf/goX/0dB8Gf/DD6t/8ANRXs1FAHjP8Awg//AAUL/wCjoPgz/wCGH1b/AOaij/hB/wDgoX/0dB8Gf/DD6t/81FezUUAeM/8ACD/8FC/%2BjoPgz/4YfVv/AJqKP%2BEH/wCChf8A0dB8Gf8Aww%2Brf/NRXs1FAHjP/CD/APBQv/o6D4M/%2BGH1b/5qKP8AhB/%2BChf/AEdB8Gf/AAw%2Brf8AzUV7NRQB4z/wg/8AwUL/AOjoPgz/AOGH1b/5qKP%2BEH/4KF/9HQfBn/ww%2Brf/ADUV7NRQB4z/AMIP/wAFC/8Ao6D4M/8Ahh9W/wDmoo/4Qf8A4KF/9HQfBn/ww%2Brf/NRXs1FAHjP/AAg//BQv/o6D4M/%2BGH1b/wCaij/hB/8AgoX/ANHQfBn/AMMPq3/zUV7NRQB4z/wg/wDwUL/6Og%2BDP/hh9W/%2Baij/AIQf/goX/wBHQfBn/wAMPq3/AM1FezVm%2BKPGfg/wRp51bxp4s0zSLUdbnVL%2BO3jH/ApCBScoxV27IunSq1qihTi5SeySbb9Ek2/kmeV/8IP/AMFC/wDo6D4M/wDhh9W/%2Baij/hB/%2BChf/R0HwZ/8MPq3/wA1FY/xF/4Knf8ABPH4W7x4p/a38HzPHnfFoV8dVcH022SynPt1riB/wWF%2BCviUf8WW/Zv%2BOXxDV/8AUT%2BEvhjcPC/o2%2Bdo8L7kV5tTOcppS5XXjfsnzP7o8z/A%2B0wnhr4gY2iq1PK66pv7U4OlD/wOs6EfxPT/APhB/wDgoX/0dB8Gf/DD6t/81FW/2VviN8afGGsfFDwJ8dNf8L6tqngH4hRaHZ6r4T8NXOk291ay6Do%2Bpqz29xe3jLIsmoyoWEu0rGh2qc58l/4bk/b48bfL8If%2BCUvikRP9288c%2BPNP0byx/eaFwzt9Ac10X/BOvWfjJ4h1v486z%2B0B4L0rw94un%2BM0B1bRtE1E3dtbAeEfDYiCykDeTCI2Y9AzMBwK1w2YYfF1HGmpbXu4Sivvklf5HBnfCGbcPYWNfGzopt8vJDEUKtRaN3cKVSo4pWs22tWl1PpOiiiu4%2BXCiiigAooooAKKKKACiiigAooooAKKKKACiiigAooooAKKKKAOV%2BN3iLw94S%2BE%2Bu%2BIvFOhapqdla2RaSy0Xw1d6xdSOWAj8qzs4Zp5mDlTiONiuN3AUkfPP7JXx30z4T/8Euvh9d%2BJfgH8UtU1nwB8FtFTVfAv/Cpdai1a5v7Cyt7d7KC2urSMyz/aUwgHBA80Hy1Mg%2BsKKAPAP%2BCd1hdXvwu8U/FPxPZ6vaeK/H/jq48Q%2BNNP1LwVquhQWGoPZ2dulpaQapa2088ENrbWkRuvLC3E0c8uEZ3jTzn4wXXxT8Pf8Fk/2f4/G/jXw/f6Lrfw7%2BJFv4Y07SvDU9ldWMat4cmkS6uJL2ZLxmMSFWjhtwuxsq%2B4bfsWviv9tvWG0T/gsV%2BxTcM%2BI7jRviZaye/mWGjhR/31t/KuTGz9nQ5vOP4ziv1Pf4Zw31zNvY96dd/%2BA0K0v/bT7UooorrPACiiigAooooAKKKKACiiigAooooAKy/HP/Ik6x/2Crj/ANFtWpWX45/5EnWP%2BwVcf%2Bi2oA5Dxz%2ByL%2Byh8UPFN145%2BJf7MPw88Ra3fbPtusa74KsLu6uNiLGm%2BWWJnfaiKgyThVAHAFZP/DA/7Cv/AEZZ8Jf/AA3Omf8AxiuR%2BOf/AAVa/YG/Zr%2BKeqfBT41/Hr%2BxfE2i%2BR/aemf8Itqtz5PnQRzx/vILV42zFLG3yscbsHBBA5L/AIfm/wDBLL/o6L/yydc/%2BQq8OtjOGo1ZRqzo8ybvf2d79b3V7976mi8SMRgV9WWdTpqHu8qxVSKjbTl5VXSjbaySS2sj1v8A4YH/AGFf%2BjLPhL/4bnTP/jFeqX1nDqNjNp9zny54mjk2nB2sMH%2BdfKH/AA/N/wCCWX/R0X/lk65/8hV9UeINVm0LQb7W7fRrzUpLOzlnTTtPVDcXRRCwiiDsql2xtXcyjJGSBzXZga%2BVVub6lKDta/Jy/K/Kl52uTLimrxL8ePlifZ9606vLzduapU5b26WvbrbT57/Zv/YR8Z/BUeBl8X/Hi11pvAHwbufhxotzoXhN9LnbT2fTvs907ve3I%2B1Rrp43MoVHeUMqRBNjeV/Bv/gjU/wtS/kuPjR4US4vrfwDBczeFfhUukm/bwz4iTWvtt832%2BaS9v73YYZrl3GCRIEODG3sd/8A8FIPgSPAVz8SfDWk6vq%2BlWnw20Dxvc3gv9K06CHTtZnlisY5LnU762t4Z2EE8jJJKqqsX3izxo/nfin/AIKseFNa8H6R8ZvhG1tL4Gvvgh8SPGGo3cunRapfWmo%2BGNV0TTzBGttqCWt1GJL6%2BDCO58ucxQtFcrGd7%2BgSeifD/wDYd1D4c3/gnWNG%2BK8Et34J8VeOtctTceHSY7mTxFf3t4sbqtyCFt2uwpIbMwjz%2B63fL2/7QnwJ8R/HH4c6JpWnePrPQ/F3hnxDpuv6D4j/ALDa5tIdStHBJks/tCNJbyo00LxCdXEc7bZVcBx5j47/AOCgd2v7Qfgf4OfDD4S65c6JrXxhuPA%2Bu%2BPNTsIDpMtzbaRqF5dWtoY7sXKzxTWiRmWW3FuTHPGrs4GPQ/2k/wBobUvhX%2BzVc/GX4eaCbnVNRvNJ0vwzZ%2BI9OubJVv8AVNRttNtGuoJVjnjjSe7ieRCEfYrAbTggAwPDv7F7D9m3xN%2BzR8RfiDba7pfxFs/FX/CzNQg0J7SfVLrXJZnne0/0l1soY1uJokicXDeWsIMpZHeXK0X9jb42y%2BCfinfeOv2o7W9%2BJPxJ8B2fhG38e6L4JNhFothZw3y2kqWTXsxluUn1K%2BuWk85UaSZQI0RAp6/9lb4vfE34g3XxD%2BGvxnl0K68UfDTxyvh/UtY8M6ZNY2OqpNpOnarBcxW09xcSW58nUo4njaaT95A7BtrKB5Tb/tiftIeB/hV8dJPiXaeCNZ8YfDz4xaN4F8ITaFo95YadcSazp/huWxe7jlu55GEVz4gCSukieZHBlUjJ4AOu%2BMf7D%2Bq6xYeEIv2ZfirY/Di48JfDvUfAVs114WOrQDw/eJZKY4ohdW/lXUJ0%2B2aCZmkjT94HhlD4GG3/AATfg0XxVZ6D8Pvi1HpPwyl1rwhrPiHwTP4dNxe3moeG1sl054NQ%2B0otvEw0vS1nja3lMgsyFePzXrjviL%2B2n%2B154K0qTwGtr4dn8ReFPjv/AMIX8QfGnh74N6/4i0%2BDR5PCEniG31OLRdOvmvIN0s%2BnWLl7mVI3eRycOm3qP2j/ANr/AOLHwq%2BGfw4%2BOPwr%2BI3g7xf4e8VQ6NHs0/4ZavPaa/JdXNvHJdJrMN%2B1noFs8dwrxNfLKu4bfMkPFAGr8T/2DPFf7R3i3XtS/aV%2BMWialo998PPFHg3RdO8F%2BCZNGubbT9c8hbl7q6mvrs3UyJbxbDGlvH5haRo2OwR0rj9gf4seI57/AOLPj39pLSdR%2BLf9v%2BH9R0HxjZ%2BAHttLsY9Hjuo7e2k0z%2B0HedJU1HVBMVuoyxvmMfk%2BWgHNWH/BR/xFo/7Ylp8EviL4l8D6fYar8TdV8IReBfsFzH4j0e1tdKu7%2B38Q3dw9yYmsbkWRCAW0ahbuIi4do5EOaP8AgpD8d9U8P/GTx7pfw98PWXh7w7b%2BDdQ%2BHN3qFhdtJbaFrWoz2UuuasiygvbwwQNqpijEDpa/u5GWQMygHTan/wAE3PH1h4UtD8N/2mLbRfF%2Bo6P4t03x54nuvBP2uLV4vEepDUr6W1tRex/YpobkH7IzyXCRRsUljuOGF%2B8/4JxXdr4/EfhL4yWlh8PZvGnhLxRdeF7nwobnVYLzw7Bp8Nlb2eqG7UW1m40u1MsJtpGbzbwLIguWx5rZ/wDBUDxt4i8Lx6ZpHxl%2BEmnRab8UtT8I698cNT0G7fwhMYNFtNWtGt7cakjI90l/DDGzXzRs9vMY2m8yJC/w7/wVlvPinf8Aw9i0XxH4d%2BHdpq3wq8OeNvGd94o8A6zrsMI1a7u7RbMSWctsmlRRy6fchr%2B%2BbywZrceUT5gUA9wi/ZW%2BMPiD42S/HP4nfGXwdqeo6T4J13w14LsdJ%2BGstnbW0Opz2k0j6kJdSnbUtpsbceXG1rG26Ylcuhj5H4Xf8EpvgXoWjX7/ABPtdPOsXnii11uzm%2BD0GofD%2Bx0eS1srmzt47KHStQ8%2BJRHe37yF7mQySXsrHCiNI7/xS/aE/aV%2BEH7Xek%2BAdU8a%2BBNb8CSeDvEvjHxNpVh4BvbfV9I0XTooo7dftzatJDLPLd3MKjNqgkjt7naEK5XN%2BAn7Rv7ZPxWkb4beKdQ%2BGuleLvE/wv0Px14P1O08MX8%2Bn6Rb3l00d5p95AdQWS%2Bkt0Eey4jltVnaU5ihEfzgGRf/APBKSzb9jz4efsZWnxG8L6novhDQLjTNS8S%2BOfAM3iLWlaZER7vR7m%2B1Fho1wq%2BbsJW6SPdEEQLEFbp9S/4J56k/xal1fw98YbGw8AXXxC8O%2BMp/Cj%2BEmm1S3v8ARbGxtLS2tNUN2BBZMunWzPC1tJIRJcoJVWchfPNT/wCCk/xUsvhn4O0t7/wwPEvjD4h%2BJNC0nxxo/wAPdZ1vStV0vR/NMmqWOi2Fw99deayxxLElyyKonuRM8UYD9v8AGz9or9pnSfB3we%2BIH7Pvxt%2BFHiSz%2BJ%2Bu%2BGtF020f4dahOutvdk3Oo6haXMetILeCPTYb28jheKdlFrtaR92VAOn%2BDn7D1l8Pv2otY/aq8U3PgNtcudO1Kw0lPA3w1TQGeK%2Bubeee51OX7XcPqd4fslsgnJhVQJtsY85sZ9l%2Bwh4o8M/s/wDw2%2BHfgj432kHjP4e%2BN5vGU3izWPCjXdhr%2Bu3aaj/aNxeacl3E7RzTard3CRrchoZRA4kcxfNauv2mfi78NP2j/i/4O%2BLknhm/8GeCfhVZeOPDyeH9FubfUo7d59Vimt7maW6kjuH26cGVo4oQDIQQ3WvK9W/bc/bb8J/DLxBZa74R8H6v45k8DeDfGHhtfB/gTV9SgsbLV9X%2Bw39rNp8F491qUljErTLNA8P2gN/qIfLIcA%2Bgvgr8CF/Zt/ZhuvhS/iga1cR/27quo6lHp4tIpbzUb271G5EFuHcW9us11IsUO9/LiWNNzbdxz/HH/KQv4X/9kZ8ef%2BnbwhV/4LfFU/GP9mi88Y3XxL0bxVfLb6naanqOieEL3w%2BkVzC8sb20um39xPdWU8WAkkUz79yltqBgooeOP%2BUhfwv/AOyM%2BPP/AE7eEKAPZqKKKACvEv2tvBvxOPjv4U/HX4Y/DK/8bSfD7xbfXWreFNIv7K2vbq0vNIvbIzWzX09vbmWOWeElZJowYmm2sWCo/ttFAHyN4f8A2dPiJ4d/Yi8JfDPxn8JPHkvjTwPrFr4j0qf4aa3oK3thq1zPcTyjT5NVuEtJUtVvJrWQXaLHLEX2JJkCvC/Gn/BO/wDaJt/g/oOh%2BK/hH428bXOp6F8SJ7qHwp8SbLS9Y0nWPEmtLqNvFql39rs4b%2BxERK3VvF51rJcRlvsc8YhEf6W0UAcjo/gvx1c/BHTfAes%2BPpdC8Rp4etbS/wDEPhKytFNtdpEiyy2sV1bywKu8NtV4WUKQNvHHkn7DOk3%2Bg/ssXGiar4nvtbubP43%2BNIbjWNTjgS5vnXx9qoM0q28UUIdyNxEcaJknaqjAH0TXgv7H/wDyb1q//Ze/HP8A6sDVaAOs1/8AYm/Yy8V67e%2BKfFP7I/wx1LU9Su5LrUdR1DwDp0091PIxeSWSR4SzuzEszMSSSSTk1U/4YH/YV/6Ms%2BEv/hudM/8AjFed%2BP8A/gsp/wAE3Phf471v4aeOv2jvsOt%2BHdXudM1iy/4RDWJfs91bytFLHvjtGR9row3KxU4yCRzWR/w/N/4JZf8AR0X/AJZOuf8AyFXgzxvDCm1KdG93e/s736303ve5p/xE3E0P3SzyceXS31uqrW0tb6wrWta1la1rK1l7NoH7E37GXhTXbLxT4W/ZH%2BGOm6npt3HdadqOn%2BAdOhntZ42DxyxyJCGR1YBlZSCCAQcitb9pr4J2X7Sf7Onjv9nvUNfl0mHxv4R1DQ31WCASvZ/ard4RMEJAcoXDbSQG24yM5rxrwD/wWU/4JufFDx3ovw08C/tHfbtb8RavbaZo9l/wiGsRfaLq4lWKKPfJaKibndRuZgozkkDmvcfjr8YfDn7Pvwe8R/G/xlpmo3WjeFdKl1PWU0qFJJ4rOIbp5grugZY4w8rDOdsbbQzYU%2Bhga2W1oSeDlBpPXk5bX8%2BVLW3cmXElTiT97PGvE8ml3VlV5b62vKpUtfeyavvbqeR%2BIv2JviF4/wBB%2BLsvj34%2B2sXiT4t/DvTfDN9rXhPwrNpsOmyWY1ELcxRSX08jI4vwGiMwOImxIPMGzhvgj/wSmi%2BEXiKHxND8SfCFht%2BLg8cvoPgL4Xx6BpEDDwjeeHDZ21ql5KYQ32oXbSs8jM6MpHzh09F%2BM/8AwUQ%2BDvwW0vxdrmqeG9T1Cx8FeLbPw3rGojxBoOlWj39xpsWohIbjV9Ss4ZNkE8AYB9%2B%2BYKivskKcja/8FHdJ8U%2BPo7/wTcWlx4C1zwZ8JNd8I6rFoUk95df8Jh4g1bTSsyPdwrHGIrOzKsAXgaSZ2S5wsFdxJ1fwN/Yo8Q/AKPwJd%2BEfi5ZXN/4G%2BBulfDq3l1Dwu7Q3f2OSBjfNGl2rLvWFgIQ52FwfMbbtbrP2jfgF44%2BKniDwf8TPg/8AE/TvCPjPwTe3j6VqmteGn1exntby1a3ubae1S6tXcH9zKrLMhWS3jzvQujeYeDf%2BCjR%2BJn7RXg/wR4Q%2BD/iay8A%2BI/BXizX7TxZqmhLO3iGHSbjToY59Ljsrmacxv9qlbyp7dJ5g0DQoQTn0n9qT40fED4e6N4F8LfBxNIh8UfEnxvb%2BHdC1DxPpc9xZabmyvNQnuZ7WOa3lm22thcBYhLETIyAsozQBW8L/ALLusfDz9mGy/Za8E%2BKvDV/oml%2BBbTQbM%2BOPBjasl7cICtxc38KXcEd1FOuN1uohwzOfMKsqJ5j4N/4Jp658JNH0HxD8FPit4Q8PeNNM8Zan4i1GRfhh/wAUxcy3umQ6WYoNFt7%2BBrRIbO1tYYWW6Z1Ecm9pfPkz1mgftafFK5/YN8b/ALRz/De01vxz4Dh8X6fd%2BHtDinFtq2q6Df3%2BnubdP3sywzy2JlSMGWVUlCZkcc%2BKH/grFqmmeEvEnhKw%2BJ3w88c%2BJbXxx4b0Dw54%2B8D%2BFdSuNAul1i3nnDjT7e7urm8mtxY38f2e2uGa4mWGINA7uIwD1S%2B/YI%2BJSfs%2BeDf2QfD/AO0LpNt8NfDuhaLp%2BrRXPgN5ddu3sLiOczWl8l/Hb2G8wxBB9jlMG0mNgQmzqv8AhnP9oeH9tHVf2nrP48%2BDE8P3/gyPw5b%2BE5PhrdtewQRNcTwytfjVxG7i6uC7YtVDRKIwEY%2BdXhXx2/4KYfEP4UfDfw/4w0b4wfC6a2PgTxFr1z4m17wVqunWvirVdLvBAfDFhZS3/wBo07UuJEkjme6nSSNgtrJskVPatA/aK%2BL2t/tg%2BAPA1vc%2BGZPhr8SfhHrPirRbb%2BxLmPW7O5sZtCUedcm6MDxSLq8n7tbdWUwqfMOSKALX7E37MPxm/Zn0XX7P4yfG7wx4/wBW8Sal/auteKdN8BXOj6lquouNslxeSS6neJIojWGGGGJIY7eKFI0GxVVfXvB//IJm/wCwrff%2BlctalZfg/wD5BM3/AGFb7/0rloA1KKKKACiiigAooooAKKKKACiivL/i3%2B2x%2ByN8CPNi%2BLf7R/g7RLiHO/T7jXYWu%2BOuLdGaU/gprKtXoYeHPVkoru2kvxaO7L8rzPN8QqGAoTrVH9mnCc5fdCMn%2BCXmeoUV8kS/8Fhfgj42lay/Ze%2BBfxZ%2BLsxYrFdeDfAlwtiG9ZLi58ry1/2tpFIPjf8A8Fevi/x8M/2OPh58MLSX/VX/AMTfGr6lNs/v%2BRpygo2OivnB68V539t4Cf8ABcqn%2BCMpL70lH/yY%2Bz/4hhxZh1fM40sEv%2BoqvRoS/wDBcpzrfL2KfkfXFVda13RPDmnyav4h1i1sLSIZlur24WKNB7sxAFfKP/DFP/BQP4q/vP2gP%2BCmutaVay/6zRPhR4UttI8n1CXrbpj9WXirei/8EZP2IH1GPX/izoni34l6tGcjVviH42vb6Vj3LKkkcbZ90NH1zNKv8LDcvnOcY/hFTf4h/q5wLl/%2B/wCd%2B0f8uFw9Wp/5Uryw1P5qLXVXR23xO/4Kef8ABP74QiQeNP2svBxliz5lto2pf2nMhHYx2YlYH2IzXAL/AMFevhp4s/5IT%2Byh8d/iHE/%2Bo1Hw18Nplsn9CZZ3jKr7la93%2BGX7KP7MfwXMcnwn/Z88GeHZY8bbrSfDdtDOSO5lVN7H3JJrv6PY51V%2BOtCH%2BGDl%2BM5L/wBJD%2B0vDLA6UMuxOJfeviY0l/4BhqUn99X/ADPko/tnf8FGfHH7v4Vf8Er9SsYX%2B7qXjr4kWGniP03WwUyH8DxSHSf%2BC1PxMOy%2B8W/Av4ZWT9JNLsL/AFnUI/qJsQNj2r62oo/sytP%2BLiakvRxgv/JI3/H5h/rzl%2BF/5F%2BSYKk%2BjnCriJf%2BXFdxv/3Dt5HyQf8AgnB%2B0X8Rfm/aO/4KgfFrWlf/AF9n4EjtfC9vIO6MtusmV7Y4yK0/C3/BGj/gnroWoDXvEfwXufFuqnHm6r4x8SX2oyzf7yyTeWf%2B%2BK%2BpKKcckyq950lN95tzf/k7l%2BSIqeKHHzpunh8fLDwf2cPGnho27Ww9Oi2vJykcP8Ov2Zv2cvhDsb4VfATwb4ceP7suieGrW2fPqWjjDE%2B5Oa7iiivSp0qVGPLTikuySS/BI%2BLxmOx2YVnWxdWdSb%2B1OUpy%2B%2BcpP8Qrxn9l/wD5Lf8AtHf9lmsf/UK8L17NXjP7L/8AyW/9o7/ss1j/AOoV4XqzlPZqKKKACiiigAooooAKKKKACiiigAooooAKKKKACiiigAooooAKKKKACiiigAr4E/4Kiat/YH/BUf8AYe1bdt3eIPFNpn/r4k0KHH47q%2B%2B6/Of/AILRyyaX%2B3B%2Bxz4tViq6H4zv72Yj%2B4NZ8MRkH2/eV5edScMsqS7cr%2B6dM%2B68NKMcTxxhKL%2B37aP/AIFhsWl97svmfoxRRRXqHwoUUUUAFFFFABRRRQAUUUUAFFFFABWX45/5EnWP%2BwVcf%2Bi2rUps8ENzC9vcRK8cilXRhkMCMEEelADqKyl8GaMihI7jU1UDCqmt3QAHoAJOKX/hD9J/5%2B9V/wDB5d//AB2gDUorL/4Q/Sf%2BfvVf/B5d/wDx2j/hD9J/5%2B9V/wDB5d//AB2gDwLQv%2BCXvwK8JeBPEvgrwZ478Z6VP4g%2BKEPjqx12G9sprvQL63ljktbSyW4tJLcWVvsZYreaGYKJZDksQwqj/glX8CZ/h3e/DvWPiX4%2B1FNS8J%2BPtA1HVr7VbN7y5i8X6raapqtwzC0CeetxZx%2BSQgREd1ZJPlK/Q/8Awh%2Bk/wDP3qv/AIPLv/47R/wh%2Bk/8/eq/%2BDy7/wDjtAHjU3/BP34dt8b9K%2BMVt8WvHdtYaL8Q7nxxp3gOC/shosWu3Njc2dzdYNobphKt3cSNEbgxCWRpFRSTn0L4l/AnQPjF8ELz4HfEnxTrOpwX1nFHLr4kgt9RS5hkSaC9RoIUhjuIpo45kKxBA8anYRwej/4Q/Sf%2BfvVf/B5d/wDx2j/hD9J/5%2B9V/wDB5d//AB2gDivgv%2BzdZ/BOzuW0v4s%2BK9Z1XWvFsviLxn4g1wac134nunsFsUS7EFnFFFHHDDZhFtY7cj7BApJQypLwWj/8E7/Dkdn8VtM8c/tJfEnxXa/F3WYNa1yDWf7Dt/7M1a3trC2tdQsXsNLt5IpoItLsBGHaSMNbK7Izs7N7l/wh%2Bk/8/eq/%2BDy7/wDjtH/CH6T/AM/eq/8Ag8u//jtAHlWg/scal4P8Galofgj9q74l6Pr/AIh8US694u8d20WgS6rr929rDaL9oSfSpLONEt7a1iQW9vCVW2jAP3t2br3/AAT98C6x8MPD/wAANO%2BNPj7Svhrovh2y0W%2B%2BH1hd6c1lrltbyFyby5nspL8vNkLM0NzD5ijBAJYt7P8A8IfpP/P3qv8A4PLv/wCO0f8ACH6T/wA/eq/%2BDy7/APjtAHn/AIi/ZR8O%2BPvi/B8Ufiv8SfEvi7TdMlup/DvgLXotNbQ9InuLKSxmmjjhs47i4Zra4uosXU86qt3MFVdw2818Pf8AgnF%2BzD8DfGvjb4k/sx%2BC9P8AhVr/AI20DT9Jn1T4feFtGsm0uK0klkD2sbWLxBpWlBlEySo/kxfINley/wDCH6T/AM/eq/8Ag8u//jtH/CH6T/z96r/4PLv/AOO0AeX6d%2Bx/L4a%2BG1z4H8B/tMfEbw/q%2BseI59b8W%2BOdOOjSax4iu5ohC5uTcadLbxjy0gRBbQQGJLaFIyirtPP%2BNf8Agmv8B/E%2BgWHgnw34j8U%2BFPDaeAtO8EeIvDvh29tfs/iXw7YvM1rpt9JdW80/lp9qvF8yCWGZheThpG3DHuH/AAh%2Bk/8AP3qv/g8u/wD47R/wh%2Bk/8/eq/wDg8u//AI7QBzen/s/eBLb4weL/AI16lJeanqnjTw5p2gaja6k8clrb6bZNdvHbQIEBVHkvrmSTczF2cchVVR4/B/wTD%2BH9r8H/ABV8IrX9o/4rRHxL4P0zwhaeJk1jThqug%2BHLGZ5IdKspfsGwRMss0Us08c11KknzzsyRun0J/wAIfpP/AD96r/4PLv8A%2BO0f8IfpP/P3qv8A4PLv/wCO0AeS3H7EtjN8PvCHhKD9obxzZ614BvZJfBvjXTdN8PWuoaVbPataNYx28OlLp5tfIbYI2tCRtRgwaNGXW8DfsbfCL4eX3wtm8O3OsfZPhB4dvtK8JaZdXyywl7qKCF7%2Bcshklu1iimjWTeq7b653KxdSnon/AAh%2Bk/8AP3qv/g8u/wD47R/wh%2Bk/8/eq/wDg8u//AI7QB5a37G1leftNeIP2kvEHx%2B8carF4m8Lx%2BHNX8AX9roh0OXS4/tTR23yaat7tWS8uJdxuizM%2B12ZAEGb8L/2D9K%2BD/h7V7LwX%2B0p8S113UNB0jQNL8ZX8%2BkXWpaHo2mSSyWmnWwl05rd4x584eW5hnuJRKTJK7JGyeyf8IfpP/P3qv/g8u/8A47R/wh%2Bk/wDP3qv/AIPLv/47QBw/w8%2BBHhz9n74N%2BJfDejeJdZ1291i41LWfEHiLxDNC97quoXCkyXEvkRRQocKiKkUUcaJGiqgArF8cf8pC/hf/ANkZ8ef%2BnbwhXqJ8GaG%2BFna%2BmTIJiuNWuZEb2ZWkKsPYgivLvHH/ACkL%2BF//AGRnx5/6dvCFAHs1FFFABRRXAfH39oPSPgNZ%2BH7b/hAfEPi7XvFmuHSfDHhTwqtp9u1G4W1nu5drXtxb28SR29tPIzyzIvyBQS7ojAHf0V5Bqv7afwwi%2BA3g348%2BEvDXiPxJF8Qb2zsfB/hnSbOCPVL%2B%2BuEkf7IUupoYYJYlhuDL50sax/Z5AWyADlj9vLwTrHh7wzN8Ofg/438W%2BJ/E82tRxeANEj0yPVdPbR7wWOrfanu76CziFreNHbOwuWDySp5RlVg1AHudeCfsf/8AJvWr/wDZevHP/qwNVr3ayuHu7OK6ktZYGliV2gmxvjJGdrbSRkdDgkZ7mvGP2HrC01P4C6/Y30Akik%2BMvxGDKSR/zO2tEHI5BBwQRyCKAPbKKyv%2BEP0n/n71T/weXf8A8dpf%2BEP0n/n71X/weXf/AMdoA1Kqa9oWj%2BKNDvfDPiLTYrzT9RtJLW%2Bs7hN0c8MilHjYd1ZSQR6Gq3/CH6T/AM/eq/8Ag8u//jtH/CH6T/z96r/4PLv/AOO0AfP3gn/gmD8KPhp8I/Afww%2BHnxq%2BI%2Blah8Ptb1PVNL8crqen3Ot3kt%2Bk0V0LqS5spIJN0U3lK6wpLGkMQjdNpJseBv8AgmJ8A/h/4a8PeFdE8W%2BMJLbw14a%2BHmh2DXepWzyPbeDdVu9U0tpG%2BzjdJLPeSrcNwHRUEYhYF295/wCEP0n/AJ%2B9V/8AB5d//HaP%2BEP0n/n71X/weXf/AMdoA8Q%2BG3/BO7wL8KfiJpfxA8JfHX4iKvhfw3ruheA9CuLzTZLDwtZ6rNbTTJaIbHfKYntIPJN09xsVNh3J8tekfHP4B6J8d/Bul%2BHNX8aa7omqaBrVrrHh7xZoD2q6jpmoQBlW5iE8EtuxaOSaJ0kheN45pFKYPHT/APCH6T/z96r/AODy7/8AjtH/AAh%2Bk/8AP3qv/g8u/wD47QBxnwz/AGcNO%2BEHw0tfhf8AD/4oeKbK0g0/WBd3zNYy3V/qmpXZvLjWZnktWBvRcyXMwCKtuWvJd8DgRCPkm/YL8E3vhXVbfxD8YfG%2Bq%2BMdV8U2HiFviffSaYNbtdQsUWKzeFI7FLGOOKIPGIRa%2BUyzzl0dppGb2D/hD9J/5%2B9V/wDB5d//AB2j/hD9J/5%2B9V/8Hl3/APHaAPGtS/YH8NXvwcj%2BA9p%2B0D8RrDw5qFxrM/juCyutLWfxo%2Bq3TXN%2Bb%2BdrBpIPMeWcD7A1nsSdlTYFjCbPin9kNPEX7TXhL9pfTP2g/HOht4L0K60XSPBWj2mhjRTYXUllJdQOJtMku9srafaZKXCsgixEYwzbvTP%2BEP0n/n71X/weXf8A8do/4Q/Sf%2BfvVf8AweXf/wAdoA1KyvB//IJm/wCwpff%2BlctH/CH6T/z96p/4PLv/AOO1fsLC00y0SxsYBHFGMKoJPfJOTySTkknkk0ATUUVBqWp6bo1hNqusahBaWtuhee5uZRHHGo6szMQAPc0NpK7HGMpSUYq7ZPRXzZ8VP%2BCs/wCxH8ONaPgzw18Srj4g%2BJnJW28MfDPTZNbu7hx1RWgzCGzxhpAc1yo%2BPn/BVL9ow7PgT%2Byj4c%2BEWhzf6vxH8XtVa41B4z/EmnWvzQyD%2B7Nlff08uec4BTcKTdSS6U05/e17q%2Bckfd4Xw34rnh44nH044KjLVVMVOOHTXeMan76f/cOhK/c%2Bva8l%2BNn7eH7HP7Oomi%2BMf7R3hXR7qDPm6YNTW4vVx/06wb5j/wB8V4T4w/4J9XOvaNL4x/4KNf8ABRzxn4k01QWvdLttag8J%2BHgvdZIYWAcAcBi6nGSetcV4D/aJ/wCCLn7MWvjwv%2Byb8Bo/H3iSxxj/AIVp4En8Q6gnoVvpwd2SP4ZjyK4sTmuLpW51Top7e0nzS%2BUKd3%2BLOfGLwm4at/ama1MTP%2BTD040oN9lVxLdSS84YX0PTF/4Kpa38Uz5X7Hf7DXxX%2BJUb/wDHvrt5pa6Do8%2Bem28vP1ygwCKGm/4LO/Gv91HZ/CL4J6ZN96V5ZvEWsW%2Bf7oGLR8e%2BOacn/BQH9s7xl/pXwb/4JMfEW9tDyr%2BNvFWn%2BHJsdsxT7yPz4p3/AA1D/wAFZNX/AHenf8EttC0gt0k1b426dcKv1EEYJ/CuT6xGv/FxFaS7U6U4R%2B9Qcv8AyZHF/wARS4RwH/ImyKmrbTrU8TjJ%2Bv7xUaF/Si15NaES/wDBJ63%2BJp%2B2fthftlfFj4oySf8AHzpLa%2BdG0d/XbZWmNmfaTpXqXwk/4J1/sNfA3ypPhr%2By34PtLiDHk397pS310mPSe68yUf8AfVeYt4p/4LZ%2BMP8AR9J%2BFn7P/g5H%2B9ca1rep6hJGP9lbcBS314oH7LH/AAVW8Zn7T42/4Kc6R4aVvv6Z4N%2BEllLGP92e5fzB%2BVa0aeApz56OBnKX80oq/wD4FVm3%2BRwZj4u8e5vh3hlUxXsX/wAu6ajhqX/gunKhD74y00uz60iiigiWGCNURFCoiDAUDoAO1E08NtC1xcTLHGi5d3YAKPUk9K%2BSz/wTV%2BO/ij918UP%2BCpfxxvYW/wBanhfULbRS3sGhjfA9qdD/AMEV/wBibV5lufi0njz4gzKwYzeNfiFqFwWb1IhkiB/LFel9azWfwYZL/FUivwjGTPjHjs8qv3MGl5zqxX4QjN/ie/ap%2B0v%2Bzjod%2B2la1%2B0B4Js7pPv2114rs45F%2BqtICKo6z%2B15%2Byf4csv7S8QftPfDyxt/%2Be9340sY1P4tKBXCaT/wSt/4J16Lp66ZZ/sgeCnjXo13pn2iT8ZJSzn86u6P/wAEzv8Agn3oV7/aFj%2Bxz8PXk9Lvw1BcJ/3xKrL%2BlHNnr%2BzSXzqP9Ff8A5uJX9iiv%2B3qr/8AbVf8DH8Tf8Fav%2BCcHhKR49V/a58KylOp0yWW9H4G3jcH8K5WT/gtx/wTyvXMPgz4l%2BIfEsgOPL0HwFqspJ9Bvt0Br6I8M/Ab4G%2BCo1i8G/BjwnpCp9xdM8O21uF%2BmxBiurjjjiQRRIFVRhVUYAFHss7lvVpx9ISf5zX5B7HiOe9elH0pzl/6VUX5HyWP%2BCv/AMKL7nwx%2ByZ%2B0LraH7kmlfCed1f6b5FoP/BUfx3rp8rwB/wTG/aRu5Ox13wNHpcZP%2B/JOwx74r61oo%2BqZq98V91OH6yYfUc6l8WNt6Uaf6yZ8k/8Nif8FMPF3yfD/wD4JUT6fE33b/xd8V9OtgnpmBEMh/A0o8V/8FutfHmaV8J/2c/D4f7seu67rF00fsxthg/hX1rRR/ZteXx4qo/Rwj/6TAP7IxM/4mNrP0cIf%2Bk0/wBT5K/4Rv8A4Lf3nz3PxJ/ZssyeqWmj63IF%2Bhc5P40h%2BDP/AAWR8THy9b/bQ%2BFXhhTwZPDnw7kvWHuBdsBmvraij%2Byab%2BKtVf8A3El%2BiQf2FSfxYis/%2B4sv0jH8z5KH7F3/AAUquxv1X/gr5qZduXFn8F9HhUfTEhrov%2BCdfgb4g/DbW/jz4L%2BKnxduvHmvWXxmg%2B3%2BK7zS4rKS%2B3%2BEfDciZhhJRNiMkYx1EYJ5Jr6Trxn9l/8A5Lf%2B0d/2Wax/9QrwvXRhsvw%2BFnzwcm9venOX4Sk187XOrCZXhcFUdSm5ttW96pUn%2BEpNfO1z2aiiiu09EKKKKACiiigAooooAKKKKACiiigAooooAKKKKACiiigAooooA5b42%2BCLH4jfCjXfBupa/r2lwXdiS994Z1%2B60u%2Bj2ESDyrq0kjmhJKBS0bqxUsMjNfMz/F74n6b/AMEUfh/8V0%2BIurQ%2BIdW%2BEfgv%2B3vGc180l/axX0enQ6jqjXEhLedHBPcXBmYkhk3k8E19U/EH4dfD74teDr74d/FTwJo3ibw/qkax6loXiDS4r2zu0DBwssMyskgDKrAMDyoPUVz3gL9l39mb4V%2BF5fA/ww/Z18CeG9Fn02bT59H0HwjZWdrJaTMWmt2iiiVDE7ElkI2sSSQaAPPv2KLjVtD8a/Gr4NweMde17w34E%2BJlvpvha88S%2BIbrVry2hm8P6Rfz2b3t5JLcXIjubudg0sjsgmEWcRqo%2BP8A/gtt408Sah8XvBmoav8ACPxDoNn4G8OarqFh4h1W5057TWB/wk/gxDJbLbXcs6BN4B%2B0RQH5xtDfNj9Hfhr8K/hh8GPCFv8AD74PfDjQfCegWju1pofhrR4LCzhZ2LuUhgVUUsxLEgckknmvhX/gu3oh17wnJZqpLQ/AnxbdKR1Hk%2BKPAsufySvKzxN5NiLfySf3K/6H3vhZUjT8S8mctniaMX6TnyP8Js/Qiis3wdrQ8SeEdK8RK2Rf6bBcgjvvjVv61pV6kWpRTXU%2BFqU5Uqkqct02n6ptP8UwooopkBRRRQAUUUUAFFFFABRRRQAUUUUAFFFFABRRRQAUUUUAFFFFABRRRQAUUUUAFFFFABRRRQAUUUUAFFFFABRRRQAV4z44/wCUhfwv/wCyM%2BPP/Tt4Qr2avGfHH/KQv4X/APZGfHn/AKdvCFAHs1FFFABXkP7UXwj%2BLHjHxL8O/jB8DLbw7feJvh54lur6LRPFerz6fY6paXWm3VjNC11BbXMlu6meKZXEEgPkGMgCTenr1FAHzJpf7IvxF0D9jXSf2dtd%2BHnhDxrrGg3NpqdndzfEHVPDizatJcyXd5dwXljZS3WltFcTS%2BQ0JkdoztZo9zV47rf/AASF1zSfh74O/sfwH8OfG2u6bpPji31nQPHGvahHpVleeJNVh1X%2B0LS4NtdXE89jLCYYpJUSeZZWmM0MuS337RQBx3h74TzD4E6T8F/iD451zWZ7Xw3aaZq/iSy1m603UNQlihRJLoXNpKk8EkjIXLRyBgWPzV55/wAE6fD1h4S/ZuvvC2lXF9Lbad8W/iHbW8up6pPe3LonjPWlBluLh3mncgcySOzsclmJJNe6V4z%2Bwf8A8kQ1z/ss3xH/APU11ugD2aiiigAooooAKKKKACiiigAooqpr2v6D4W0i48QeJ9btNOsLSPfdX1/crDDCv953chVHuTSbSV2JtRV3sW6K%2BUvjL/wWc/YX%2BFj3umeE/HWofEXVbCFpbjTvh3pjaisaDq7XOVtlQHq3mnHXFfLN9/wV/wD%2BCjv7aHiS5%2BH3/BPj9lO10%2BNZTBP4gnZdVazOAVd7pvLsLfIOdrmXoRzXhYviXJ8LP2an7Sb2jTTm2/8At3T8fU0yqhjuIHU/sjDzxKp/HKnG9On/ANfK8nTw9P8A7frp9ovZ/qTrWuaL4b0ybW/EWsWthZW6bri7vbhYool9WdiAo%2Bpr5h%2BPv/BZr/gn/wDAaR9JT4xp411ngQ6J8PoRqkkpPG0TIwtg2eCplDe1eJfDb/giv8Xvj/q9t8R/%2BCo/7WHiPx9eLIJovBejatKmnWzHqplIUKMHBW3jhwejsDX2r8Dv2Uv2bf2atMTS/gR8EvDnhgLCIpLrTdMRbqdB2luGBlmPu7saUMRn2OjeFONCL2c/fn/4BFqK%2Bcn6GOJw%2BZ4Wqk5UW1vFSnVS8nOCpwfnyOS7TfX4H8df8FbP%2BClPx7mOjfsaf8E7fFWjafcNsi8T%2BIPDl1fSBT0kQMsNrE3s7yL1ritP/wCCd/8AwVe/an1ODxX%2B1XoWhavcB/MFl8W/iFcTaZA2ciS30vQtkUL9Pkd2XjBFfrbRXNPhqWMlzY7FVKvl7sY/%2BApNffc97C8WcX4Cj7PL8WsH0csLRpUar9cRJYjEr/tyrSufEHws/wCCb37bvg3RB4f0n9uPwp8NdKcAT6F8I/g3p1krn1N1JiZj7sCT1JzXU/8ADpjSfE5874y/t0ftB%2BLy3%2Bts7r4iNa2R9cQQxDb%2BDV9bUV6EMhyyEVFxckujlNr7uZL8D5DE5RhcfXlXx0qlepLVyq1a1STfdudR3%2Bdz5c8J/wDBGX/gnN4Y1iPxHf8AwA/4SHUY2BN54q8Q3%2Bo%2BYf8AbimnaJvoUr6N8GeA/A3w40KLwv8ADzwZpOg6ZD/qdO0bTorWCP6RxKqj8BWtRXbhsBgcHf2FKML9opfja/4m2EyzLcBf6tRhC/8ALFJv1aV/xCiiius7gooooAKKKKACiiigAooooAKKKKACiiigAooooAK8Z/Zf/wCS3/tHf9lmsf8A1CvC9ezV4z%2By/wD8lv8A2jv%2ByzWP/qFeF6APZqKKKACiiigAooooAKKKKACiiigAooooAKKKKACiiigAooooAKKKKACiiigAr4m/4K2aH/wkMupWGzd5f7LPxOucf9cdQ8IzZ/8AIdfbNfK37eOh/wDCTfF1fDezd/aH7K3xWttvr5lx4WXH61yY%2BHtcBWh3hJf%2BSyPoOEsV9S4sy7EfyYihL7q1Jv8AC57R%2ByVrn/CTfsqfDLxIX3f2h8PtFud3r5ljC2f1r0GvDv8AgmfrY8Qf8E%2B/g5fh93l/D3TLbP8A1xgWHH/kOvcaMBP2uAoz7wi//JYhxZhfqXFeYYf%2BTEV4/dWqpfhYKKKK6z58KKKKACiiigAooooAKKKKACiiigAooooAKKKKACiiigAooooAKKKKACiiigAooooAKKKKACiiigAooooAKKKKACvGfHH/ACkL%2BF//AGRnx5/6dvCFezV4z44/5SF/C/8A7Iz48/8ATt4QoA9mooooAKKK8i/ai%2BLnxX8HeJfh58IPgbc%2BHrHxP8Q/Et1Yxa34q0ifULHS7S1026vppmtYLm2kuHYwRQqgnjA88yFiI9jgHrtFfLPij9uf4hJ%2BxR4B/aGtrXwt4U1PxP4jtdD8X%2BIvEkM93oHhCRZ57a9v51Sa3eS0W4tmhjZ5oRm5haR1AavO/Hf/AAVa%2BIEn7Ecvxc%2BCei%2BFfEXxBs7vxN9tmks7oaH/AGXoGqTWV3rIiEwmFvd%2BVAttF5zMH1CM75Y4JnoA%2B6q8Z/YP/wCSIa5/2Wb4j/8Aqa63XqfjLxr4N%2BHPhe98cfELxbpmg6LpsJm1HWNZv47W1tYwQC8ksrKiLkjliBzXj3/BOnxP4a8a/s3X3jDwb4hsdX0jVPi38Q7vTNU0y7S4truCTxnrTRyxSoSsiMpDBlJBBBBoA90ooooAKKKKACiikZlRS7sAAMkk8AUALXFfHn9oz4Ifsw%2BBZfiR8efiTpvhrSIiVSe%2BlJe4fGfLhiQGSZ8c7I1Zsc4wK%2Bf/AIxf8FGfEvxG8b3/AOzz/wAE5/BFn8RfGFkTH4g8aXkxTwt4VHOZLm6Xi4kABIiiJzg4LFSlfMXg7TX8d/Haa6%2BCSH9qz492coTV/ir4xUx%2BBPATE52WkafunZDyqw5YkFkIYPHXzuOz6nTfJhVztu19XG/aKXvVJLqoe6vtTjqXkWWZ/wAZYqph%2BH6MZxpa1cRUkqeFoRvZyqVXaLtsoxbbfurml7p9Ca7/AMFAf2sv2gNGudT/AGMv2XV8M%2BE4oWkn%2BLvxyuTo%2BlQwgc3EVoD508eMsJM7Rj5l7V8sXPg3xp%2B2v4/bSPCev%2BI/2q/E1hd7b3xV4pll0H4YeGZ%2B/lW1uUa/kTOCEIEi4ba4yK%2Bu9F/4JcX3xl1a38b/APBRH9orxD8XtQilE0HhOGRtK8NWLjkBLK3KmUrwN7kbwPmU19VeFPCXhXwH4cs/CHgjw3YaPpOnwiGx0zTLRILe3jHRUjQBVHsBXGsozLNXfGzah2dr/KEf3cPWTqy9GfUQyXw94cftMbVed4tbKcZ0cvg%2B/sk4VcVZ7Kp7Kk7XfMtD46%2BC3/BGn4chbLXP2vvGq%2BP57SUT2PgjQ9Mj0TwnpknbytOtQiysB8pkk/1gHzoTX2L4V8JeFfAugW3hTwT4a0/R9LsoxHZ6bpdmlvbwJ/dSOMBVHsBWhRX0GCy3BZfG1CCTe73b9W9X%2BC7JHLnnFWfcQwp0sZW/c0/4dKEY06NNdqdGmoUoeqhzP7U5O7Ciiiu4%2BeCiiigAooooAKKKKACiiigAooooAKKKKACiiigAooooAKKKKACiiigAooooAK8Z/Zf/AOS3/tHf9lmsf/UK8L17NXjP7L//ACW/9o7/ALLNY/8AqFeF6APZqKKKACiiigAooooAKKKKACiiigAooooAKKKKACiiigAooooAKKKKAPP/ANqv41XP7Of7N/jb446foKareeGPDl1fafpksxiju7pUPkQu4BKI0pRWcAlVJODjFcP8Ifj58c7WT4s/DX402/hTXvGPwzsrXULS/wDC9nLounaxa3dg1xArR3l1cm0dZ4bmF2aZ02IkvybzGnq3xc%2BFng344fCzxF8G/iHYSXWheKdFudK1aCGZopGt54mjfY64aNwGJV1IKsAQQQK858GfsTeEvD/h7xboHjX4t%2BM/Gz/EGGe38fah4pk04XGv2z2C2EdtKbOyt1gihgU7FtlhJeSR5DI0jEgHA/8ABOH9tP4s/tXan4l0j4nw6Q40rwp4b1qzubLwJqnhmdJNTW9M1qbLVLiaa6t4vssflapERa3ZllWIE28hq58Q/iF8J/i9/wAFBdB%2BEHgr4meHda1zR/gX4/svE2iaXrUFxd6S8%2BpeFFRLqGNy8Bba%2BA4Una2Ohr0L9nn9krQfgB4k1LxvdfFvxl4413UfD%2Bm6Cms%2BNLixaa00qwa4e2s4lsrS2j2q91O7SujzSFxvkYIgWj44/wCUhfwv/wCyM%2BPP/Tt4QpSSlFp9S6VSVGrGpHeLTXqmmvxSOE/4Iv62df8A%2BCZPwqvS2TFp19bHPbydSuocf%2BOV9Q18l/8ABFb/AIl37EUfgzp/wjnjzxFpuz%2B5t1KZ8f8AkSvrSvLyNuWTYe/8kV9yt%2Bh914p040vEvOVHZ4mtJek5ua/CaCiiivVPggooooAKKKKACiiigAooooAKKKKACiiigAooooAKKKKACiiigAooooAKKKKACiiigAooooAKKKKACiiigAooooAK8Z8cf8pC/hf/ANkZ8ef%2BnbwhXs1eM%2BOP%2BUhfwv8A%2ByM%2BPP8A07eEKAPZqKKKACvP/j9%2Bz5pHx6s/D9yPH/iLwjr3hPXDq3hnxX4Ua0%2B3adcNaz2ku1b23uLeVJLe5njZJYXX5wwAdEdfQKKAPK/DH7Li/Dr4KWnwM%2BEPx18a%2BEtO0yys7bR9S0xdKub2xEA/euHvrC4SeS5Ys8zzpKS7syeWTxw/xL/4JUfsS/GP4Dt8C/ip8HNI8RO1hfwL4317Q7C%2B8QRT311LeXl5HeXFu/lTzXU81wxRFTzJWKoowB9GUUAVdD0PRPC%2BiWfhrw1o9rp2m6dax22n6fY26wwW0EahI4o40AVEVQFCgAAAADAryP8AYP8A%2BSIa5/2Wb4j/APqa63Xs1eM/sH/8kQ1z/ss3xH/9TXW6APZqKKKACio7u7tLC1lv7%2B5jgggjaSaaZwqRoBksxPAAAySa%2BNfHH7Xvx5/bs8W3/wACf%2BCb9yul%2BFrK4a08ZfHzULUvZWZHElvpKHH2u4x/y1HyLkEFQyS1x4zHUcGkpXlKXwxWspPyXZdW7RS1b7%2Bfj8yoYCMVJOU5aRhHWUn5LsusnaMVq30frf7Vn/BQH4I/ss6ha/D%2BdNQ8YfEPVgF8P/DfwhB9r1a%2BdhlS0a58iM9d74%2BUMVD4Ir5h/aYT45eNPhrN8Z/%2BCqnxwPwp%2BGk8gj0v4F/DK/8AM1TXpGGUs7u8U7rqRujQw/u8HcTDtJHoGtW37Jn/AASS8NW%2BgfCzwLqfxC%2BNnj5zFpdrPcm%2B8TeLbxj801xcMC0FtvBZ2AWMbSQrMDXVfsx/sM%2BOdY%2BJkH7Y37eniC08XfFR03aBoluN2jeCYSci3sYiSrTDjdOcncPlJOZH%2BexP1/Mqzw8mnLrBN%2Bzpp/8APySs6krbU04xfVcur%2BuyPgWGKy2Gf8aVZUsDK/ssNSlapinF2cYyaTdNP3ateSjRjrClCvV0j5V8HP2MPjX%2B1n4I0/wd8SvA7fAH9ny1AbSfgr4VlMGseIIuCJNYuV%2BeMPgFos%2BY2Tvw6iQ/bnww%2BFXw3%2BCvgmy%2BHHwm8E6d4f0LTo9lnpml2yxRJ6sQPvMTyzHLMckkk5roKK9zA5ZhsCuaPvTas5O17dlZJRiukYpJeb1OvPeLMbnOFp5fRpww2BpfwsNRXLShpbma%2BKpUa0lVqudR7LkjaCKKKK9E%2BWCiiigAooooAKKKKACiiigAooooAKKKKACiiigAooooAKKKKACiiigAooooAKKKKACiiigArxn9l/8A5Lf%2B0d/2Wax/9QrwvXs1eM/sv/8AJb/2jv8Ass1j/wCoV4XoA9mooooAKKKKACiiigAooooAKKKKACiiigAooooAKKKKACiiigAooooAKKKKACvGfHH/ACkL%2BF//AGRnx5/6dvCFezV4t46uYE/4KJ/Cy0aVRLJ8FvHzIhPLKur%2BDwT%2BG4fnQB5p/wAEkf8AiW%2BFPjp4MPH9gftK%2BLLONPSPfA6kex3mvrSvkv8A4Jwf8Sb9of8Aao8GdPI%2BNT6ls/6/LSN8/jsr60rycj0yuEezkvunUR%2BgeKXvcdYqr/z8jQqf%2BB4XCS/F3fzCiiivWPz8KKKKACiiigAooooAKKKKACiiigAooooAKKKKACiiigAooooAKKKKACiiigAooooAKKKKACiiigAooooAKKKKACvGfHH/ACkL%2BF//AGRnx5/6dvCFezV4z44/5SF/C/8A7Iz48/8ATt4QoA9mooooAKKK8S/a28ZfE4eO/hT8Cvhj8TL/AMFSfEHxbfWureK9IsLK5vbW0s9Ivb4xWy30E9uJZJYIQWkhkAiWbaoYq6AHttFfJJ/aE/aY%2BIH7Bnw7%2BKugalrUGsah4jt9N%2BJHijwD4STU9TtdOt7m5tbvU9O05oLlZWlmt4W8sQXBjhuJGWNzGK4a9/ad/aB8cfsIt8edF/aG8aeGvG%2Bj%2BK/FXg/wR4ej8G6P9s%2BIOuWes3mn6RDe2d1ZO8Uky2iG5htjZ%2BVuunZrdIT5QB9314z%2Bwf8A8kQ1z/ss3xH/APU11uvS9d8Xr4H8BSeMvG2n3rtY2KzalbeHdHu9Tm34G9YLe1iknn%2BYnCpGzEc4615N/wAE6fENh4t/ZuvvFOlW99Fbaj8W/iHc28Wp6XPZXKI/jPWmAlt7hEmgcA8xyIrqchlBBFAHulFFfMf/AAUk/aB8feHPDvh/9kb9nK9x8VfjBdPpWhTRMc6JpwH%2Bm6rJt5RYot21uDuyy5MZFc2MxVPBYaVaettkt23okvNtpL18mcePxtLL8JKvU1tslvJvSMV5ybSXr2TOC%2BP/AI78Yf8ABS741an%2BxL8A/EV1p3wn8LXYi%2BN3j/TZNp1GQHJ0CykHBZsYmcZAGQeBsm7/APac/aT8K/sVeDPC37J37JXwwsdY%2BJGv2gsPhx8PNMQLBZQqCDfXeCPKtY8MzOxBkKt8wAkkTP8AiV44%2BFX/AASi/ZQ8K/AT4C%2BCv7e8YaoV0f4e%2BErdB9r8R6w4Aku59pB2b2Es0mQACqArlcdP%2Bw9%2BxdefACPVfjb8cPEo8XfGXxwFn8b%2BLpwCIQcFdPsxj91axYVQFA37FJAVURPApwxc8RKnGX7%2BSXtJrVUovVQhf7XbzvUl9iJ9vwZwxgMiyz/W3iiCqyqNqhQu17eUH8N1aUcHQk0qs1aVerelB3c5UV/Y0/YYsf2ftS1H44fGXxc/jz4x%2BKow3izx1qCZMQOP9CskIAt7VMBQqhSwUZCqERPoKiivoMLhaGDoqlSVkvvbe7berberb1b/AA8vPM9zXiTMp47MKnPUlZbJRjFK0YQikowpwVowhFKMYqyW7kUUUV0HkBRRRQAUUUUAFFFFABRRRQAUUUUAFFFFABRRRQAUUUUAFFFFABRRRQAUUUUAFFFFABRRRQAUUUUAFeM/sv8A/Jb/ANo7/ss1j/6hXhevZq8Z/Zf/AOS3/tHf9lmsf/UK8L0AezUUUUAFFFFABRRRQAUUUUAFFFFABRRRQAUUUUAFFFFABRRRQAUUUUAcd%2B0H8ZtC/Z3%2BB3iz45%2BJNMur6z8KaBc6lJp9jt8%2B8aKMslvFuIXzJGCxruIG5xkgZNcZ8IP2p9Z1mz%2BIel/tEeANN8D%2BIPhhHDd%2BJ7TR/Ecms2B06ayF3FeQ3LWttI67VnjdGgRlktpAN6lHbs/2hPgzof7RPwN8WfAzxJql1YWfivQLnTZNQsdvn2bSxlUuI9wK%2BZGxWRdwI3IMgjIrzz4a/sl%2BPLGXxzqnx3%2BLOheMNQ%2BJ0P2LxzJpfg2bSoJdOi08WdtaWcbX9w1sF3XEsjyPOZHuX2%2BUoRVALP7Ff7Wl/wDtd%2BFdS8c/2R4FsdPiFq1lZeFviVHr%2Bo2ZmR5DbatBFaxR6beRp5W6BJbgbmcCTCBn8n/bE%2BJcnw3/AOCt/wCyJFNP5Vn4l8LfEbQ7t89TKnh%2BWFffM0EQr0j9kX9jDxD%2Bzf4nk8WeMvirpfiO5tPh/ongjQI9D8HjRorfR9Ke6e3Nyn2mf7TdE3ThpV8mIBcRwRbn3fIH/BZv4V/DX4J/tVfBr9r34ffDXQdE1rwn/ani3xhrej6LBb3erpBr/hO1Bu5Y0D3GBesAXLYDtjqa8/Na0sPl860fs2l8lKLf4XPLzqvPC5XUrx%2BxaXyjKDl/5LzH0N%2Bxx/xJf%2BCmP7W3hY/Kkt14M1K3H97zdJk8w/8AfQAr60r5K%2BDLpo3/AAWM%2BMmnRuNviD4UeHdTUqeHEMj2%2B73619a1jk2mGnHtUqr/AMnb/wDbj9U8SPfzrC1/%2BfmCwMv/AC1hB/jSYUUUV6x%2BfhRRRQAUUUUAFFFFABRRRQAUUUUAFFFFABRRRQAUUUUAFFFFABRRRQAUUUUAFFFFABRRRQAUUUUAFFFFABRRRQAV4z44/wCUhfwv/wCyM%2BPP/Tt4Qr2avGfHH/KQv4X/APZGfHn/AKdvCFAHs1FFFABXHfGr4DfDH9oLw9Y%2BGvidpWoTR6XqialpN9o2v3ulX%2Bn3axyRCe2vLGaG4t3MU00TGORS0c0iNlXZT2NFAHnX/DK3wbt/hhH8G9As/EWheHLeysLOx0/wv461fSWsILNAkEdtLZ3UUlqNqgP5LJ5vPmb8nPNeKP8Agnt%2Byr4qTwSsvhLxHpT/AA7sb218Hz%2BFviNruiy2KXhU3bmSwvYXnlmKAyTSl5XLOSxMj7vaqKAIrK0isLOKxgeVkhiWNGmmaRyAMAs7ks545ZiSTySTXj37B/8AyRDXP%2ByzfEf/ANTXW69mrxn9g/8A5Ihrn/ZZviP/AOprrdAHqHj3xx4Z%2BGfgfWPiN401NLLSNB0ufUNUu36Q28MbSSN%2BCqTXxb%2Byh4osfDvw%2B%2BIf/BaD9rpGsLzxVorS%2BEtMmYM%2BheFYm/0KyhzwZrp/Lc44dpIyNpdhXWf8FRta1b41ar8Ov%2BCdPgjUJYr/AOLmvrP4wntXw9j4ZsWE95ISPuGQqqJnh9rp3rC%2BMmi6V%2B29%2B2X4e/Yj8H6fEvwi%2BBy2WtfEuG2X/Rb/AFJUxpui8cGONR5kicqQrKdrItfMZjip1Mbamrum1GC6OtNXu/KlC8n2v3sd/BmQYXi7jCUsfJxy/L4OtiJLpZJtRvp7RqUKNJf8/sQnb3Hbpv2C/gD8QviZ40n/AOCjP7Wdgp8f%2BMdOC%2BC/DkmWh8F6C4LQ2sQYDFxIjbpXwG%2BcrhS0gP1nQAAMAUV7mCwlPBUFTi7vdt7yk95Pzb%2B5WS0SPR4m4ixfE%2BbSxlaKhFJQp046QpUo6U6UF0jCOneUnOcm5zk2UUUV1nz4UUUUAFFFFABRRRQAUUUUAFFFFABRRRQAUUUUAFFFFABRRRQAUUUUAFFFFABRRRQAUUUUAFFFFABRRRQAV4z%2By/8A8lv/AGjv%2ByzWP/qFeF69mrxn9l//AJLf%2B0d/2Wax/wDUK8L0AezUUUUAFFFFABRRRQAUUUUAFFFFABRRRQAUUUUAFFFFABRRRQAUUUUAFFFFABXxz/wU7%2BF//C5fFz/DqO286e%2B/Zi%2BJcljFjO66h1HwjPAP%2B/saV9jV4v4/ghuf%2BCgnwytriJZI5Pgv49WRHGQynVvCAII7iscRRjiMPOlLaSa%2B9NfqYYrDwxeFqUJ7Ti4v5pr9T5U%2BGXxTbQvjX%2ByJ%2B2410f7P%2BLfw0i%2BG3jW5LfKNR8pZ7P2LvexzJnrtT8K/ROvy/wDAHwl17xt/wSE%2BKf7PvhyWVfFf7OvxR1w%2BGZh800FzpV%2BdRjdM8ktDNNGp77sDpX6Hfs8fGDR/2gfgT4Q%2BNug7BbeKfDtpqQiRs%2BS8sSs8R90csh91NfP8P1pa05/bjGp87ezqL/wOnf8A7ePtq2InxF4X5FnUtatCMsFW9aV6tBv1pzrQX/Xq3Q7Kiiivpj5AKKKKACiiigAooooAKKKKACiiigAooooAKKKKACiiigAooooAKKKKACiiigAooooAKKKKACiiigAooooAKKKKACvGfHH/ACkL%2BF//AGRnx5/6dvCFezV4z44/5SF/C/8A7Iz48/8ATt4QoA9mooooAKKK%2BYv%2BCj5%2BEY1n4N/8NRnQP%2BFPf8LAu/8AhPf%2BEw8n%2Bw/M/sTUf7P/ALS8/wDc/Z/tWzb537v7T9l/5aeXQB9O0V8CmPwz41/4Je/Dez%2BKnxU8BWlh4O1bSNT1rw38ZvE40/S9X0MzTjStN1qaZJXtxNaPZzIZ4ZS81vEHjfLCvD5V8CJ8CPDE37cdloFp4En8BfFWf4O2hEg063v38Qo%2Bhx6R5yo5vF0xoxpJREuTbhzbpGd6KAfrVXjP7CBA%2BCGuknAHxm%2BI%2BT/3Out11ngW7%2BNtj%2Bzj4eu9Q0HTtU%2BIMfhKwOo6frmrPYW0%2Bp/Z4/PWW4ht7hoh5m/5lhk5/hrwX4M/EjxL8M/%2BCZnxT%2BKvjDT7HTNa0XxH8V9QvbPS9Se7t4LyPxRrz%2BVDPJFC0yiQBVdooy3BKKTgZ1akaNKVSW0U39yb/Qyr1Y4ehOrLaKbfok2/yPKPhT8dbKTSf2if%2BCzPitUl0630258L/B5bkfI2lWMhijdM9Fu9QKZHVWVx0NfR3/BNP9ni7/Z6/ZO0C38WrLN4y8XA%2BJ/H2o3fNzd6vegTS%2Ba3dkDLF6fu89SSfkfQPh//AMJn%2Bzv%2Bxl/wTjtIc2viiytPHfxBtQOE0i2Q6g0Ew7LPcTlAf78Qr9Na%2BZyKk61b209XCKv/ANfKtqlR/JOEPJKx9lgqU%2BG/CTL8HLTEZnOWMrd3Ti3ChF9eWVWVeqk9LQg%2BiYUUUV9UfJBRRRQAUUUUAFFFFABRRRQAUUUUAFFFFABRRRQAUUUUAFFFFABRRRQAUUUUAFFFFABRRRQAUUUUAFFFFABRRRQAV4z%2By/8A8lv/AGjv%2ByzWP/qFeF69mrxn9l//AJLf%2B0d/2Wax/wDUK8L0AezUUUUAFFFFABRRRQAUUUUAFFFFABRRRQAUUUUAFFFFABRRRQAUUUUAZvjPxj4V%2BHfg/VviB451%2B10rRNC02fUNY1S9lCQ2drDG0ks0jHhURFZiewBrnPgh%2B0J8Kv2iNE1DXfhbrGozLpGoCx1aw1vw7faRfWNwYYp1Sezv4YbiLdDNDKheMB0lR1JVgaxf21PhD4q%2BPn7JnxD%2BDvgV7Ua34g8KXlro8d9KUt5roxkxRSsASsTuFR2wcKzHBxg%2Ba/CrwX%2B0l4v8W/GH4n3fw41z4Uaz8UtOttL8K3GqS6Rqs3hmSx0pootUvYbW%2BeKZnuriQRwwySbo7WPzWh8wqgB7J8Kv2ifg18bvFHjLwb8K/G0esah4A8QHRPFscFpOkdlfiNZGgEroscxUNtYxM6o6vGxDo6rx3jj/AJSF/C//ALIz48/9O3hCvPf%2BCd37J37RH7LHxI%2BKOmfFPxB4Rv8AwvqMmgxeErrw14Vn05r0WulQW8tw4n1a%2Bl3bkKv5p8yWUSTbyJAB0N/4L8SeHv8Agpt4L8Rat8XPEOu2erfB7xw9hoOq22nJaaKF1bwllLZra0incPuGftEs5%2BQbSvzZAOK/ZWgtvhz/AMFNP2lPgbfRIbDxdYaF4z0mzkUESLLbta3zEHhg0%2B0H8jT/APgk7c3Hwq0n4qfsN6vO/wBo%2BDnxEurfRIpWJf8AsLUGa8sHOecsGmPoBjmpP%2BCl3w58YfDDU/C3/BR34IaPJc%2BK/hIWHirTLbhte8KyH/TbVvUxAtOhPCfvGwWC1y37S2s3vwm8YeGv%2BCwv7Kzz%2BJPCer%2BG7S3%2BLPh%2BwG5tW8OsA0WpRJ/Dc2oPzA4wi4JRVkz8i28uxV2v4MpydutGq7trv7OfxLoldH0/hfKnj6Wa8E1pKNTFONXDcztF1o1JTpRu7KLqKpiMNd2SnOipNRmmvt6isf4f%2BPvB/wAU/BGlfEf4f6/b6pomt2Ed5peoWrZSeGRQysO44PIOCDkEAgitivrYyjOKlF3TPnK1Grh60qVWLjKLaaaaaabTTTs000001dNNBRRRTMwooooAKKKKACiiigAooooAKKKKACiiigAooooAKKKKACiiigAooooAKKKKACiiigAooooAKKKKACiiigArxnxx/wApC/hf/wBkZ8ef%2BnbwhXs1eM%2BOP%2BUhfwv/AOyM%2BPP/AE7eEKAPZqKKKACiiigAooooAK/PT9q3xLqGif8ABH/4p6BoZzqfij43eNNB02POPMkuviLqcbL%2BMXmV%2Bhdfl/8Ata%2BNV0r9nX4Z%2BDd42v8Atc/EPxNfxnpLZaN4p8RXk6kf3cbCfoK8jPqip5NXd7Xjy/8AgTUf1f3Hl5zRrYrLKmGo/HW5aUf8VWcKUfxqHuH/AATr8M2HxX/at%2BMH7Ulovm6D4W%2ByfCz4dTEcLp2lohvHQ945bnY6kccMOa%2B0K%2BbP%2BCQfgf8A4QL/AIJw/CzTpIds2oaFJq1xIw%2BaVry5lug7HqxKyryewFfSdVklN08rpya96a536z978E4peUUfp/iVXoy40xWDw/8AAwjWFpLtTwqVCP8A4E6dSb/vVJerKKKK9U%2BECiiigAooooAKKKKACiiigAooooAKKKKACiiigAooooAKKKKACiiigAooooAKKKKACiiigAooooAKKKKACiiigArxn9l//kt/7R3/AGWax/8AUK8L17NXjP7L/wDyW/8AaO/7LNY/%2BoV4XoA9mooooAKKKKACiiigAooooAKKKKACiiigAooooAKKKKACiiigAooooAKKKKACvGfHH/KQv4X/APZGfHn/AKdvCFezV4z44/5SF/C//sjPjz/07eEKAPYru0tb%2B1lsb62jmhmjaOaGVAyupGCpB4II4INfDnwI8ZaP/wAEzPjfrP7E3x4Etl8HvGutS3vwX8VanHv02yN0We50G5lbKxbZGYx7%2BGDMWPzgD7nrl/jL8F/hh%2B0H8ONT%2BEvxi8HWmu6Bq0Pl3lheJkf7Loww0cinlXUhlIBBBrz8dhKldxrUWlUhe19mnvGXXllptqmlJbNPzMxwVetOnicLJRrU7uLd7NPeEra8srLVaxkoyWqs/j%2ByvPH3/BH3xrq9vdeEtR8RfsxeINYa%2Bsr3SVe5u/hxcTtmWOSEAtJp7SHcCuSmT1c4l%2B0/A3jrwb8TPCOn%2BPvh74nsda0XVbZbjTtU024WWG4jPRlZTg%2Bh9CCDyK%2BMrDU/2uP%2BCZmm3Pw/8f8AgLWvjr8AoVMel67poW68R%2BGLAjBtry2YD7dbouQHXG1AclVCxDC%2BEHwtVbO//aQ/4In/ALS/h670DUbr7Z4h%2BCniJ2bRnnYZdYkO2fSZ2A4QhVJ2/Msaha8PB4ypgansYQfLq3SdueHf2eyq0%2Byi7xW2nur9Ow3EvDfiZJUs3qxwGcpJSnVuqOJslHmqySfJVdlfEwU6NXSVeFKpzVJff9FfLfwm/wCCqnwdvPFEXwf/AGtfC2p/BD4hA7JdB8c/u7C6bgF7TUcCCeIkgBiU3E4UN1r6gtLu1v7WO9sbmOaGZA8M0ThldSMhgRwQRzkV9FhcbhMbFyozTtuuqfZp2afk0jws%2B4Yz/hivGlmeHlT5leEtHCov5qdSLlTqRfSUJyXe2ykooorqPBCiiigAooooAKKKKACiiigAooooAKKKKACiiigAooooAKKKKACiiigAooooAKKKKACiiigAooooAK8Z8cf8pC/hf/2Rnx5/6dvCFezV4z44/wCUhfwv/wCyM%2BPP/Tt4QoA9mooooAK5/wCJvxY%2BFnwU8IzfED4y/Evw/wCEtBtpEjuNb8T6zBYWkTuwVFaad1RSzEAAnknAroK8C/bSTU/DXxH%2BCvxqvvBXiDxB4Y8E%2BPL678R2nhjw3d6xd2X2jQtSs7e%2BWys4pbicJLcCE%2BVG7ILveQEV2UA9c8V/Fv4VeA/h83xa8c/E3w9o3hVLeK4fxNq2tQW2nrDKVEUhuJHEYVy6BW3YbcuM5FYPiL9rD9lnwh4N0L4jeLP2lfAGl%2BHvFLbfDOu6j4ysYLLVz1xazvKEuD/1zLV8kan8PPiJo/8AwTy%2BEnw21DwH4/0DUvCHjnQ9W1afwv4QuL7WPA%2BnNc3F1atZWn2a4h1Ca1ie2s5II4rpIFeRmifygp8f8afA74wR/BDw7Z6p4X%2BMXh%2BO88G/FrT7HxR4T%2BGk2paz4obWfEKXdva61pv2Kb%2Byhqkai9mdYrIxyZSObTVBgIB%2BqwIYBlIII4Ir8Xv22vG4eS/0nzvl8C6R8btYkTPCnWvHeq6CpP1MuB7mv1t8LaP8TI/gDo2h6DBoXhLxXH4Ys4Vt7zT5dU0/SrtYIw8RiS5he4iQhkGJ0JAB3ev4rf2f4r%2BKPxT%2BLngXx3qNlqWqXf7QNp8Mbm907TntLa9lv/HWuavceTBJNM0UZktg3ltLIVyAXY/Mfl%2BLpyWU%2BzjvKSX3KT/PlPd4OwtLMPETIMLVV4SxuHnP/BQc8VP7o4a/yP2s/Z38D/8ACsvgB4G%2BG/k%2BX/wj/g/TNNKYxtMFrHFj/wAdrsaKK%2BlpwjSpxhHZJL7kl%2Bh5eMxVXHYyriavxVJSm/WUpSf4yYUUUVZzBRRRQAUUUUAFFFFABRRRQAUUUUAFFFFABRRRQAUUUUAFFFFABRRRQAUUUUAFFFFABRRRQAUUUUAFFFFABRRRQAV4z%2By//wAlv/aO/wCyzWP/AKhXhevZq8Z/Zf8A%2BS3/ALR3/ZZrH/1CvC9AHs1FFFABRRRQAUUUUAFFFFABRRRQAUUUUAFFFFABRRRQAUUUUAFFFFABRXj3/BQc%2BOR%2Bw58WD8N/7T/tj/hAtT%2Bz/wBib/t2z7O/m/ZvL%2Bfz/K8zy9nz79u35sV4v%2Bxb4s/ZA0PxB8atH%2BCXirwPYfAu/ls28OwaBqFtDoc9xFoqPrjWAiYRtEkP2Vrgw/Ks32gviXzTQB9k14z44/5SF/C//sjPjz/07eEK8c/4JO%2BJv2YvijrfxM%2BNv7IeoeAtE8CeIX0eHQPhv4EvrMf2dbW63iprV/Y2rbdPvNR8xv3Lqsn2ewtvNAmEscfoV/qXxXu/%2BCm3guz8beC/D2n6Fb/B7xwPDWo6V4nnvLu/Q6t4S8xrm2ksoUtCMJgJNcBtxyV2jcAfQ9FFFABXzr8ef%2BCX/wCzB8afGMnxb8N2GsfDnx8WLx%2BOvhvqr6VfmQ8lpBH%2B6mJIG5nQuQMbhX0VRXPicJhsZT5K8FJefR9090/NNPzOXF4HB4%2Bl7PEU1Nbq62fdPRp%2BaafmfDnxN%2BBX/BSrwd4Sm%2BH3xF8JfC/9q/wIpJXSvF1lHouvlQPl2yMGtS6jgSnMhIByDXzfZ/EPwJ%2Byzqv2b4Y/Fv45/skag05x4K%2BJ3hefxD4NmlJyUtnxIVRjkGft2xiv1zqHUdO0/V7GXTNWsIbq2nQpNb3EQdJFPUMpyCPY14eJ4eVSSnSqtNbc3vNeSmnCol5c8l5HrZFn/GfCdCWHyfMZLDyd5YevGGKw8vWlWUtenMmprpM%2BFPhL/wAFQ/2ntPsVk8ffADwt8Y9IhTM3i79nPxfBqkxQdS2kSuLpWxy2SgBzxXsnwo/4Kw/sH/FbUv8AhGz8crTwprqP5d14f8eW8mi3VvJ/zzb7UFjLeyO1T/Fb/glN/wAE/PjDdtq3iL9mbQdN1Ev5ian4WEmkTpJ18zNm0YZs85YHnrmvH/ip/wAES9M8WaZ/Zfgb9sfx4trGpWz0r4kWFj4usbMdlhhvYwYwPZs55zXPycV4H4OWtHs3r97UJfe5ep7f%2BtWRZh/yOchVOXWrl%2BI9n83hcYqlL5U68F2srH2/pmqaZrVhFqujajBd2s6B4Lm1mWSORT0KspII9xU9fk3ef8EWP%2BChPwN1A6z%2BzD8evDFiVmMs8/hTxNq/hy8vD6GEGe0UHuuAvar%2Bm/FX/g4t/ZwaT/hIvhGfH2m25xaQX1lpurNIg/vS6dNBcsevLLmqjxHi6GmMwVWPnFc6/DUxqUeCMSr4TNJ0X/Li8JXpP09rh/rlB%2Bvurr5H6q0V%2BZuk/wDBeX9of4XBbT9rT/gm74y0Dyx/pWo2EN3ahfXEF5bge%2BfOr1T4a/8ABwb/AME5vHQjTxL4q8T%2BEJHwCviHwzLIFPpusjOMe5x74rro8UZDVlyuuoPtNSg//JkvzPMqYOipWoYvD1v%2BveIoyf8A4DKdGp99NH29RXjvw/8A%2BChP7DXxQWMeCv2svANzLMQIrS48TW9tcMT6QzMkn/jteu2N/Y6paR3%2BmXsNxBKu6KeCQOjj1BHBFezRxOHxCvSmpLyaf5NmFXDYmjFSqQaT2bTs/R7P5SZLRRRWxgFFFFABRRRQAUUUUAFFFFABRRRQAUUUUAFFFFABRRRQAUUUUAFFFFABXjPjj/lIX8L/APsjPjz/ANO3hCvZq8Z8cf8AKQv4X/8AZGfHn/p28IUAezUUUUAFFFFABRRRQAV%2BOn7L/gZ9d/bc0zw/dQZl8Uft4/FHX8YyDb6BcXDQufpLPOB7iv2Lr81/2KNA0rXv%2BCn1roul22I/CMXxa8R3T5yBe3/xF1iyP0YxIv8AwEV4We0VXhQi/wDn7Bfe9fwiz7fw9w6XEVXMX/zCYXHVV5SeFnQg/lLEo/SiiiivdPiAooooAKKKKACiiigAooooAKKKKACiiigAooooAKKKKACiiigAooooAKKKKACiiigAooooAKKKKACiiigAooooAKKKKACvGf2X/wDkt/7R3/ZZrH/1CvC9ezV4z%2By//wAlv/aO/wCyzWP/AKhXhegD2aiiigAooooAKKKKACiiigAooooAKKKKACiiigAooooAKKKKACiiigAooooAK8Z8cf8AKQv4X/8AZGfHn/p28IV7NXjPjj/lIX8L/wDsjPjz/wBO3hCgD2aiiigAooooAKKKKACiiigAooooAK5Hxr%2Bz/wDAf4lb/wDhY3wT8I6/5v8ArP7a8N2t1u%2BvmxtmuuoqJ06dSNppNeaT/NMipSpVY8tSKkuzSa/FM%2BdfGv8AwSV/4JwePww139kbwrBuOT/YkUumfl9jkixXm2r/APBBX9hJNSGr/DK6%2BIPgK4U5SXwh42mRlPqGulnb9a%2B06K86rkeTVneeHhfvypP71ys4I5NlMKnPHDwjLuoqL%2B%2BPKz4o1f8A4JR/tHaDercfBX/grX8cNIiiAENv4s1JtcVQOg2maBCPbbWXqn7LX/BcrwUwX4b/APBR3wT4ngjPyw%2BLPBNvaFx7tFaTvn/gf41910VjLIMB/wAu5VIf4atRfhzSX4G1LLstpWSpaL%2B/VX/pNZN/M/PjUPHP/BxZ8OcmP4P/AAf8drH95ra4SIuPUBru1P6fhWHqH/BSz/gsr8Oyf%2BFkf8ErpNSCf6xvDFpfTD6gwNc8fnX6R0VhLI8XH%2BFjq0fVwl/6VD9T06NLI4/xKFT/ALdxVaP4ThWR%2BYOpf8HDnxW%2BHxMXxk/4JueJ9D8v/Wzz%2BIJ4MevyXGnpj/vqtvQP%2BDlH9ni6hWfxL%2Bzx4us1IywstZ024Yfg80RNfpH161yniz4D/A7x7u/4Tr4NeFNa3/f/ALW8O21zu%2BvmIc1i8t4lp/w8en/ipR/9taPSp4bg6aSnPHU/NVcHV/CphaX4yPkDwb/wcE/sceNFV7H4S/FyNT1ceD4J1/O3upMiuzh/4La/sIQRCbxRrnjTQkIyW1f4e6koH4xwvXoHir/gmF/wT28ZBv7Y/Y%2B8Bxb%2Bp0vQo7E/%2BS3l4rhrv/gib/wTujuGvvCHwn1nwzcucm58O%2BN9VgbPqA1wyj8BUey4zp7VKM/%2B3XH%2BvvOpZPwbWfuZziqX/XzAYar97oYyl%2BES5o//AAWo/wCCYut4Fp%2B1TYRk9rzw/qdvj6%2BbbLXU6R/wVI/4J4a1j7H%2B2D4GTPT7XrC2/wD6N24rzbWP%2BCM3wruEx4Y/a8%2BP2jBfuW8HxG8%2B3%2BjRzwPuHtmuV1f/AIIv%2BMRn/hGv2276T%2B7/AMJh8LND1z/vrz4l3UvrPF9P4qFOXo//ALZFf6q5ZV/3fiTDf9xcDjqX3unUxC%2B5M%2BmdJ/bq/Yl13A0j9sD4X3DHokfj3Ti3/fPnZFdLpf7Q3wB1zH9ifHLwfeZ6fZfE1rJn/vmQ18N6r/wRx/aGtMmz%2BJX7PfiZv7%2Bvfs1aRpzP/vNZLn8q5rVP%2BCTH7U1mT5v7Kv7HXiGH%2BLZpuvaZcN9PIcRij%2B1eIYfHhPuUn%2BUmH%2Bo2cT/3fOsqqetfFUf/AE9g/wA2fpXpnifw1rQB0bxDY3een2a7STP/AHyTV6vyk1T/AIJg/Ea0z/wkX/BHH4Ua%2BR1Phb44appu76edOMVR/wCGJH8Mf8hT/gid8SNDC/xeD/2kvt/4qBNn8KP7fzCPx4a3yqr/ANxSX4h/xD3xAl/A/s%2Bt/gzPDX%2B6p7N/gfrTRX5Lf8Ko%2BGvhr/kLfsP/ALdug7ev/CJeIJtQC/TE3NKdW/Zp0QY1b4w/8FFfA2Oovbq8iEf12xSUf6zOPx0kvWbX/pVFfmH/ABDnxbf8PJlV/wCvWLwlT7uWs3/5KfrRRX5MR/HX9iXSHEN5/wAFm/2rPDshOFj8UrqUxB9D/wAS8j9a6HRvjP8As86jj/hFv%2BDgzx5Bn7v9t6anH18%2B3T9aqPFFCTtyx%2BVaj%2BriYV%2BAfF/DR5qvDGMS7qHMvvjFp/Jn6jUV%2BcujeK7nUcf8Ir/wcd%2BHoifuLq%2BkeHmJ/CaZCa6vR9G/a01TB8If8F/fAGrKfuRn4a%2BG5c/8CjuSTXVDPVP4aLfpUov/ANynhYnLONsF/vORYuHrSt%2Baifd9FfHOkfCT/gqPqWD4X/4KifDzWwfuk/C6y%2Bb/AL8ymtH/AIVF/wAFlbL/AI9v2v8A4RXuP%2BfzwBPHn/v21dKzSq1f6tU%2BSg/yqHjVMzxtGXLVwNeL7OML/wDpxH1rXjPjj/lIX8L/APsjPjz/ANO3hCvMD4N/4La2f/Ht8Zf2ebzH/P34e1aPP/fs1U%2BCdt%2B3Na/8FCvBiftn6l8Lbof8KZ8Zf8I0/wANodQQ/wDIW8K/aPtIvOP%2BeGzZ/wBNN38NbUMfKtVUHQqRv1lFJfNqb/I0w2ZyxFZU3h6sL9ZQSivVqb/Lc%2BwKKKK9A9QK4D4%2B/tB6R8BrPw/bf8ID4h8Xa94s1w6T4Y8KeFVtPt2o3C2s93Lta9uLe3iSO3tp5GeWZF%2BQKCXdEbv68h/ai%2BEfxY8Y%2BJfh38YPgZbeHb7xN8PPEt1fRaJ4r1efT7HVLS6026sZoWuoLa5kt3UzxTK4gkB8gxkASb0AGa5%2B2x8LLD9nrwl%2B0T4c8PeINfs/HV9p2n%2BFfD2mWsEOpXl/ePsjs2W7mhht5kYSLIJpY1RonUtuwDjaZ%2B3/AOCfFXhLwxqfw3%2BCnjzxR4l8U3OvQ23gDSYdLj1Wz/sS/OnarJPJdX0NksdveGOAyLdOsjTR%2BSZVYNXB%2BIv2HfjLe/sbeE/2Zr7SvAHiweG/EWn614j0LxLqFxHovjZmnmu9QsbpPsczWlsLycTQ/JdbxbRLKm1nU%2Bd%2BIP8AglJ8QLj4d%2BChN8O/hX4q1Pw5ofjXRrXwL4j1u%2Bg8PeGLTXNUgv7D%2BzJksZZHOlJbJbQAwW5KOTE1p5ccYAPvWyuHu7OK6ktZYGliV2gmxvjJGdrbSRkdDgkZ7mvzu/4I%2BWVz4q/bv/au8a3kR8vwz8RNZ8PafIe6zeKNdvZQPo5XP1r7l8PfCeYfAnSfgv8AEHxzrmsz2vhu00zV/EllrN1puoahLFCiSXQubSVJ4JJGQuWjkDAsfmr5M/4If/C%2Bz8A6B%2B0dqlq168d1%2B1T440%2Bzn1LUp725ltbLVJYo2luLh3mnfc0u6SR2diCzMSSa87G03VxWGXRTcvuhK34s%2Bz4YxsMDkedSfxVMPCkv%2B4mKoc3/AJLTafkz7kooor0T4wKKKKACiiigAooooAKKKKACiiigAooooAKKKKACiiigAooooAKKKKACiiigAooooAKKKKACiiigAooooAKKKKACiiigArxn9l//AJLf%2B0d/2Wax/wDUK8L17NXjP7L/APyW/wDaO/7LNY/%2BoV4XoA9mooooAKKKKACiiigAooooAKKKKACiiigAooooAKKKKACiiigAooooAKKKKACvGfHH/KQv4X/9kZ8ef%2BnbwhXs1fOH7R%2Br/GvR/wBvD4Tz/A74f%2BFvEWpN8I/Ha3dp4r8YXOiwRwf2p4SJdJbfT71nfdtGwxqMEnfkBSAfR9FeM/8ACcf8FC/%2BjX/gz/4fjVv/AJl6P%2BE4/wCChf8A0a/8Gf8Aw/Grf/MvQB7NRXjP/Ccf8FC/%2BjX/AIM/%2BH41b/5l6P8AhOP%2BChf/AEa/8Gf/AA/Grf8AzL0AezUV846T%2B0d%2B3brHxn1/4HW/7KHwkXVPDvhfSNdvLl/jrqnkSQajc6lbwohHhjcXVtLnLAqAA8eCxLBeo/4Tj/goX/0a/wDBn/w/Grf/ADL0AezUV4z/AMJx/wAFC/8Ao1/4M/8Ah%2BNW/wDmXo/4Tj/goX/0a/8ABn/w/Grf/MvQB7NRXjP/AAnH/BQv/o1/4M/%2BH41b/wCZeuX8A/tHft2/ETxX438IaP8AsofCSG48B%2BKItC1WS5%2BOuqBJ55NK0/Uw8W3wwSU8nUYVJYKd6OMYAZgD6Oorxn/hOP8AgoX/ANGv/Bn/AMPxq3/zL0f8Jx/wUL/6Nf8Agz/4fjVv/mXoA9morxn/AITj/goX/wBGv/Bn/wAPxq3/AMy9H/Ccf8FC/wDo1/4M/wDh%2BNW/%2BZegD2aivnH4RftHft2/GXwpd%2BL/AA5%2Byh8JLa3s/FGt6FJHe/HXVFcz6Xqt1pk7jb4YYbGmtJGQ5yUZSQpyo6j/AITj/goX/wBGv/Bn/wAPxq3/AMy9AHs1FeM/8Jx/wUL/AOjX/gz/AOH41b/5l6P%2BE4/4KF/9Gv8AwZ/8Pxq3/wAy9AHs1FeM/wDCcf8ABQv/AKNf%2BDP/AIfjVv8A5l65f4I/tHft2/Hj4MeEPjj4V/ZQ%2BElrpfjPwvp%2Bu6bbah8ddUWeGC7to7iNJAnhhlDhZAGCswyDgkc0AfR1FeM/8Jx/wUL/AOjX/gz/AOH41b/5l6P%2BE4/4KF/9Gv8AwZ/8Pxq3/wAy9AHs1FeM/wDCcf8ABQv/AKNf%2BDP/AIfjVv8A5l65f43ftHft2/Af4MeL/jj4q/ZQ%2BEl1pfgzwvqGu6lbaf8AHXVGnmgtLaS4kSMP4YVS5WMhQzKMkZIHNAH0dRXjP/Ccf8FC/wDo1/4M/wDh%2BNW/%2BZej/hOP%2BChf/Rr/AMGf/D8at/8AMvQB7NRXjP8AwnH/AAUL/wCjX/gz/wCH41b/AOZej/hOP%2BChf/Rr/wAGf/D8at/8y9AHs1FfOPxd/aO/bt%2BDXhS08X%2BI/wBlD4SXNveeKNE0KOOy%2BOuqM4n1TVbXTIHO7wwo2LNdxs5zkIrEBjhT1H/Ccf8ABQv/AKNf%2BDP/AIfjVv8A5l6APZZI45kMUsasrDDKwyCK53Wvg/8ACXxJn/hIvhd4cv8Ad977bokEuf8AvpDXnn/Ccf8ABQv/AKNf%2BDP/AIfjVv8A5l6P%2BE4/4KF/9Gv/AAZ/8Pxq3/zL1MoQmrSSfqk/zNqOJxOGlzUZyg%2B8ZSi//JWjX1n9iX9jPxESde/ZJ%2BGd4W6tc%2BBNPdvzMOa5XWP%2BCXn/AATz1zP239j7wKmev2PRUt//AEVtxWn/AMJx/wAFC/8Ao1/4M/8Ah%2BNW/wDmXrl/H37R37dvw78V%2BCPCGsfsofCSa48eeKJdC0qS2%2BOuqFIJ49K1DUy8u7wwCE8nTplBUMd7oMYJZeWeXZfU%2BKjB/wDbkf8A5E97DcZcYYP%2BBmWIh6Yiuv8A3Nb8DL1f/gi3/wAEx9bz9s/ZV0%2BPP/Pnr%2Bp2/wD6KuVrN/4cnfsE2R/4pbwp4u0LH3f7J%2BIOqJt%2Bm%2Bdq9O/4Tj/goX/0a/8ABn/w/Grf/MvR/wAJx/wUL/6Nf%2BDP/h%2BNW/8AmXrmeR5K3f6tD/wFL8rHs0/FPxMpx5VnWKa7OvUkvuk5r8DzH/hz58FrL/kV/wBpn49aJ/d/sr4q3CbfpvRqp/BT9k8fsvf8FC/BkcX7SHxV8fxa38GfGWyP4m%2BL/wC1v7N8nVvCv/HqfLTyhJ5o39d3lR9NvPrX/Ccf8FC/%2BjX/AIM/%2BH41b/5l6oeB/A/7VnjH9qzw58bvjd8OPh74Z0bwz8PfEOhww%2BFfiHfa1dXd1qV9olwjMlxpFikUaJpcoLB3YtKgC4yRrQyrLsNVVSlTUWuzl%2BXM1%2BBxZpx/xlneBng8wxkqtOdrqUaTbs017yoRmtUtqivs7q6futFFFegfHhRRRQAUUUUAFeDf8E7PCul%2BGPgr4um04Nv1X48/Eq%2Bu2fHMreM9YTt2Coo/Cvea%2BSv2SvFn7Z2n/D3xRZ/DH4B/DDV9CT40/EX%2Bz9R174u6jpt3Mv8AwmesljJbRaBcpEQ24ACZ8gA5BO0JxTab6FxqVIQlBPSVrrvZ3X3PU%2BtaK8Z/4Tj/AIKF/wDRr/wZ/wDD8at/8y9H/Ccf8FC/%2BjX/AIM/%2BH41b/5l6ZB7NRXjP/Ccf8FC/wDo1/4M/wDh%2BNW/%2BZej/hOP%2BChf/Rr/AMGf/D8at/8AMvQB7NRXzj8Ef2jv27fjx8GPCHxx8K/sofCS10vxn4X0/XdNttQ%2BOuqLPDBd20dxGkgTwwyhwsgDBWYZBwSOa6j/AITj/goX/wBGv/Bn/wAPxq3/AMy9AHs1FeM/8Jx/wUL/AOjX/gz/AOH41b/5l6P%2BE4/4KF/9Gv8AwZ/8Pxq3/wAy9AHs1FfOPxu/aO/bt%2BA/wY8X/HHxV%2Byh8JLrS/BnhfUNd1K20/466o080FpbSXEiRh/DCqXKxkKGZRkjJA5rqP8AhOP%2BChf/AEa/8Gf/AA/Grf8AzL0AezUV4z/wnH/BQv8A6Nf%2BDP8A4fjVv/mXo/4Tj/goX/0a/wDBn/w/Grf/ADL0AezUV4z/AMJx/wAFC/8Ao1/4M/8Ah%2BNW/wDmXrl/i7%2B0d%2B3b8GvClp4v8R/sofCS5t7zxRomhRx2Xx11RnE%2Bqara6ZA53eGFGxZruNnOchFYgMcKQD6Oorxn/hOP%2BChf/Rr/AMGf/D8at/8AMvR/wnH/AAUL/wCjX/gz/wCH41b/AOZegD2aivGf%2BE4/4KF/9Gv/AAZ/8Pxq3/zL0f8ACcf8FC/%2BjX/gz/4fjVv/AJl6APZqK%2BcfH37R37dvw78V%2BCPCGsfsofCSa48eeKJdC0qS2%2BOuqFIJ49K1DUy8u7wwCE8nTplBUMd7oMYJZeo/4Tj/AIKF/wDRr/wZ/wDD8at/8y9AHs1FeM/8Jx/wUL/6Nf8Agz/4fjVv/mXo/wCE4/4KF/8ARr/wZ/8AD8at/wDMvQB7NRXjP/Ccf8FC/wDo1/4M/wDh%2BNW/%2BZeuX1b9o79u3R/jPoHwOuP2UPhI2qeIvC%2Br67Z3KfHXVPIjg065023mRyfDG4OzapAVAUghJMlSFDAH0dRXjP8AwnH/AAUL/wCjX/gz/wCH41b/AOZej/hOP%2BChf/Rr/wAGf/D8at/8y9AHs1FeM/8ACcf8FC/%2BjX/gz/4fjVv/AJl6P%2BE4/wCChf8A0a/8Gf8Aw/Grf/MvQB7NRXzjpP7R37dusfGfX/gdb/sofCRdU8O%2BF9I128uX%2BOuqeRJBqNzqVvCiEeGNxdW0ucsCoADx4LEsF6j/AITj/goX/wBGv/Bn/wAPxq3/AMy9AHs1FeM/8Jx/wUL/AOjX/gz/AOH41b/5l6P%2BE4/4KF/9Gv8AwZ/8Pxq3/wAy9AHs1FeM/wDCcf8ABQv/AKNf%2BDP/AIfjVv8A5l65fwD%2B0d%2B3b8RPFfjfwho/7KHwkhuPAfiiLQtVkufjrqgSeeTStP1MPFt8MElPJ1GFSWCnejjGAGYA%2BjqK8Z/4Tj/goX/0a/8ABn/w/Grf/MvR/wAJx/wUL/6Nf%2BDP/h%2BNW/8AmXoA9mrxn9l//kt/7R3/AGWax/8AUK8L0f8ACcf8FC/%2BjX/gz/4fjVv/AJl6t/srfDn40%2BD9Y%2BKHjv46aB4X0nVPH3xCi1yz0rwn4ludWt7W1i0HR9MVXuLiys2aRpNOlcqItoWRBuY5wAet0UUUAFFFFABRRRQAUUUUAFFFFABRRRQAUUUUAFFFFABRRRQAUUUUAFFFFABXyvq37Wnxch/aRm1xfDvg9vh5pHxgtvhc0UmkXB183F5p9rcNqEd59o8pIPt0tvbtafZyWSHz/PBCw19UV4zefsQ/Di8%2BPzfHV/HPipbaXxXD4qufAqXVr/Yk%2BvxacunR6oym3%2B0%2BatukY8oXAtzJEkxhMo8ygD2aiiigAooooA%2BY/Dn7S3xMh/4KAeKPg/8AEbWPD3hPw2uv2mi%2BDItR%2BEWspdeMYP7Ag1HEHiNrtdOaWO7udQAtBC8vl2kwCgs0i/TleV%2BLP2WoPH/xk0j4p%2BPfjf411fSvD2ux61oHgC4OmRaNY6hHbvBHOGhskvZdnmSSKk11JGJH3bPkQL6pQAUUUUAeL/8ABQX4u/HD9n79kfxp8evgFe%2BFI9Y8E6Fd65dQeMNFub62u7S1tpZnt0S2urZkldkRRIXKoCxKPwK8/wDHn7Wnxc8F/HjxbqfhTw74Qi%2BHnhD4x%2BEfh94ys5tIuDreq6rrsGipHqEN2lwsMccH9uaTGYpLeV5EhnxLHtQV7D%2B1j%2BzjZftafAjXv2fda%2BKvinwjpPieylsdcv8Awgunfa7mylieKa23X9pdRojq/LIiyAqNrrzni4P2AfB0/wARbP4i%2BKvjj4%2B11jrOk654m0bUJdKisfE%2BuaYkaWOrXsdtYRMtxEILTC2zQQMbG2LxMY8kA97ooooAK8X/AGyfi78cPgla%2BAfGPwsvfCn9jah8TPDnh7xfY%2BINFubm6ubXVdZsdNBs5YbqFLaSNbmWTfIk6koi7OSa9oryr9q79lt/2qvDeheF5/j7438DW%2BheJLDXUbwXDo7Pd3tjeQXlm0p1LT7wbYri3jcLGEDcrJvU7QAecfs8/tK/EzW/2q/FvwR%2BKGr%2BHvCenQ%2BKdbt/BPhKT4Razplzr1tC6Sm/t9buLv7BqDsZJZZYraAuMl2K4Yn6cryXSf2UQ/xk0X4y/Ef9oDx341m8L3d5d%2BE9C8QjSYbDR7q5t5LWS4iWw0%2B2llf7PNPCvnySqizvtAJBHrVABRRRQB4P%2B1r8Zv2gvgN4k8L%2BLvBniDwRe%2BHta8XaF4dtvAt94cvJNc1y5vb5YblrS9jvVihMFq0l1sa0mHl2kzO8aAvHx/7Ev7Wnxc%2BKmvfDjTPH/h3whZeF/i/8HLj4g/DLT/C2kXFpNoGlW0%2BloNPvWkuJY7mT7PrWnMJYY7dFaOdPKICtXoXxJ/Y5X4iftO6J%2B1Nb/tHfEDQtV8P6GNK0zQNMh0S40uCB5vNuWjS%2B0y4mhluQI45pYpUdo4Y0VkA5P2ef2Ifhx%2Bzj4ui8VeG/HHirWo9J8PS%2BHvBWkeILq1e18JaLJcJcPp1gILeKTyS8NsM3DzyhLSBBIFQCgD2aiiigAr5f/a5%2BPH7S/wAFviJp/hTSofAHjXR/HMOtW2i/DmLwffSawlraaHdXcl/cTi9eK6thdRW9tJCLWIH7fCgmMjIkn1BXh037E1xH%2B0f4r/aa0T9qv4l6dq/i3TYdOudLhg8Pz2mn2cMDRw21m1zpMtzbxLK73WxZtrzuXcODtoAZ%2Bwh%2B0J43%2BPnw8vLr4r%2BPtGvvF2nCzbX/AA3ZfC7V/CN5oDz2yyiC5sdXup7hwW3%2BXcARxyKh2htpNe6V5v8AA79m7Tvgz4n8SfEPWPil4p8ceKvFcVjb6x4n8XNYLcvaWYm%2By2qRafa2ttHFG1zcuNsIZmuJCzNkY9IoAKKKKAPij9pj9uH4/fA74%2B3/AMB9R03wh4tGsPZJ4S/tH4Z6votto%2Bo3viHQ9M0hnvLu8lt/ECRy6xDLcNp4ia3a0%2BfyWlRV9/8A2Vfi/wDEj4jDx/8AD74xHRJ/FXw08eN4a1nVfDWnTWdhqfmaXp2rW9xDbzTzyW%2BbXVLdHjaaXEkcmGIIxy3xL/4J5%2BDfjbr1x4g%2BNvx8%2BIvip7aO4/4Q6G/udKtk8I3El1b3Ud3YGzsIWe4hltLYxSXbXJTyu%2B99/o/wD%2BAuh/APw9q2m2Xi/XPEmreItem1rxP4o8SvbG/1e%2Bkjih86YWsEEC7IILeBEiijRY4I1C8EkA7qiiigAr4m/ai/bH/aw%2BDvxm8UfCvwf4a8OeN9V0vwxf8AiHwlGnwT1%2BGTSHS70%2B3hWFzeuviaT7Jqc6zDS/KeFoisgj84Rj7ZrxHWv2L9R8ReP2%2BJ%2BuftafFC51uwt72HwbdumghfCq3c0Lzm0jGlBJ2aOFIA16LorEXAIZ2cgHS/sqfFub4y/CkeJtR%2BJ2jeKdRtdVubHVrrR/BF/wCGzZ3ETfNaz6ZqNxPdWk6KV3JMwYhlbaqsK9JrhPgH8A9A%2BAOhazY6f4t1zxHqvibxBLrnifxN4klt2vdVv5IYYPNkFtDDBGFgt7eFUiijRUhQBc5J7ugAooooAKKKKACiiigAooooAo%2BKPENh4S8Naj4r1UObXTLGa7uREuW8uNC7YHc4U185/sTftJ/Gvx/4p0fwZ8bPD3gyzHjr4W2XxG8Mw%2BDNKuLQaZHeXBN3p92ZriUXc0b3Ns/2xBAJ2lmJgj2gv9LXdpa39rLY3tuk0M0bRzRSqGV1IwVIPBBHGK8h/Zm/Yr8Bfswaq%2Br6B8QfFviWW28MWPhnw6PFl7azDQNCs3ke3021Nvbwlo1MnzSzma4kEcXmTP5a4APYqKKKACuF/ag8efEX4Wfs0fET4nfB/wAKLr3i3w54F1fVPC2htYzXQ1HUbezlltrYwwMsswklRE8uNg7bsKQSDXdVneLdEv8AxL4Y1Dw/pfivUdCub20kht9a0hYGurF2UgTRC4iliLqeQJI3TI%2BZWGQQDy79in4tT/FH4Z31lq3xC0DWdT8O6ounXmmaJ8MNU8HPoaC2gkis7jStUuZ7mFwjiRXby0eKWLYmBvf2KvPPgP8As7aT8DrzxL4jufiJ4k8Y%2BJPF%2Bow3niLxT4rezF3dGG3S3giEdjbW1tFFHGgCrHCmSzsxZmZj6HQAUUUUAfLn7VH7WPxQ/Zw%2BL3jiy%2BJWjeEvEXwvsP2d/F/j220K30S4TVXbRBpaz21xcyXL280U6304CC2QqETLvlhXb/sz/F/4%2Bap8XPGX7Ov7Sz%2BErzxR4Y8MeHvEseq%2BCtJubGykstWfUrdbYw3NzcuZYbjSLsGUSBZEeJvLjO5ag%2BMf7Cvh346fHVvjL48%2BO3jmXTZvBWp%2BEb74ewwaL/Yl3o2pLbfb7SQvprXpE7WkDs4ug6lCEZEZkPSfs7/su6H%2Bz7fa14jn%2BKHi3xv4h1%2B1sLK/8T%2BNrm0kvTYWKSLZ2Y%2ByW1vH5URnuHBKGR3uZXd3Zs0Aen0UUUAFfInxr/aX/a28F65%2B0B4Ft/CvgzxZe%2BAvD/hTxJ8NrHSfh/qd/Oseo6rqUIS7tYrx5dRngXTY51NsLclyQq/KrV9d14XL%2BxR4hi%2BOnjb4/wChftofFbStW8b6RY6Zc2NlZ%2BGGtNNtrK4uZ7NLYS6K8n7o3l0oMzyl1nIk8wqhUA6v9lT4tzfGX4UjxNqPxO0bxTqNrqtzY6tdaP4Iv/DZs7iJvmtZ9M1G4nurSdFK7kmYMQyttVWFek1wnwD%2BAegfAHQtZsdP8W654j1XxN4gl1zxP4m8SS27Xuq38kMMHmyC2hhgjCwW9vCqRRRoqQoAuck93QAUUUUAfG37S37Xf7S37PHxmg%2BG2sp8M/Gt9rcEE3hGHTvC17aS%2BC7zUvEOmeHtIm1OV76YXUU7avOC0S2cjixuljDL5hi9x/ZV%2BL/xI%2BIw8f8Aw%2B%2BMR0SfxV8NPHjeGtZ1Xw1p01nYan5ml6dq1vcQ28088lvm11S3R42mlxJHJhiCMcLbf8E1fCTXXxDfxD%2B0v8TtZt/iTrx1zWLfUjoXmWepRXEM%2Bn3NtdRaWl0psHt7cWkbzSRRLCgZH5z6x8A/gLofwD8Patptl4v1zxJq3iLXpta8T%2BKPEr2xv9XvpI4ofOmFrBBAuyCC3gRIoo0WOCNQvBJAO6ooooAZc/afs0n2PZ52w%2BV5udu7HGcc4zXxB8Vv2uf20/hp8RNc%2BG1vbeA/GeveGL3w1b6t468EfBXX9Wj8OW%2BrNePe2EulWepT3dzNHDZWN0TFOn7u6haWBAYmk%2B3ruGS4tZbeG6kgeSNlWeIKXjJGAy7gVyOoyCPUGvnv4MfsBeIPgJ8Nrj4afDv9ur4xRR3WrPqc2s3ll4Tn1CW7leWS5nmmfQj9pkneXdJJOJHzGmwoBggHrPwE%2BIdl8Vvg74f%2BIVh8QNG8VJqeniR9f8P6TNYWl3ICVkKWs800tsVdWRoZJHeNlZWO5SB19cl8C/gv4S/Z9%2BF%2BnfCnwVc39xZWEt1cTX2q3Imur67urmW6urqZwqhpZrieaV9qqu6Q7VVcKOtoAKo%2BJ4fElz4b1C38G6nY2WryWUq6XeanYPdW0FwUIjklhjliaaNWwWRZIywBAdSdwvVm%2BMdBv/FHha/8O6X4t1LQbm8tXig1rRxAbqxcjiaIXEUsRdTyBJG6HHzKwyKAPib4U/twftZfG74uX/wA%2BFdj8P4fHKPrc48beK/hbrWiR6hpOkWmiyfZptCu79NRsZWvPEcUcck8xQwrLcRxOsqg/W37Nnxm0/8AaO/Z08A/tDaVpEmn2vjzwVpXiK2sJpNz20d7ZxXKxM2BkqJQpOBnFeRah/wTU8Hajrd18SH/AGlvilD8RNQnuV1L4n2t5pEWsXVjPaQWsuneWumiyitjHa2zARW0ciywrKJBJlz738PvAfhP4WeAtE%2BGPgPR49O0Pw5pFtpei6fESUtrS3iWKGJc5OFRFUZ9KANeiiigDl/jTqPjjRvhbrWt/DnxDY6Xq1hZm6hvtQ8H3viBEjjIeUDTrGeC5vJGiV1SKGQOXZcK5%2BRvi34a/wDBRH4/a54h8Pa74wuPCPgTwbqcuo/8JR48vfgZ4iuLXUb2112TSYvtTJfRr4ZlltbaImLVGeS3YiN/ubK%2B2/iZ4M13x74Sm8OeG/ilr/g28kljeLX/AAzFYvdwbWBKqt/bXMDBgCpDxNwTjBwR4rqH/BObwpq/gG9%2BFGqftIfE248L%2BI7m7ufiFob3Gj7PGU93cvPdyX0o00Tw%2BcHELR2UlrGIUVFRQCSAfRNFFFABRRRQAUUUUAFFFFABRRRQAUUUUAFFFFABRRRQAUUUUAFFFFABRRRQAUUUUAFFFFABRRRQAUUUUAFFFFABRRRQAUUUUAFFFFABRRRQAUUUUAFFFFABRRRQAUUUUAFFFFABRRRQAUUUUAFFFFABRRRQAUUUUAFFFFABRRRQAUUUUAFFFFABRRRQAUUUUAFFFFABRRRQAUUUUAFFFFABRRRQAUUUUAFFFFABRRRQAUUUUAFFFFABRRRQAUUUUAFFFFABRRRQAUUUUAFFFFABRRRQAUUUUAFFFFABRRRQAUUUUAFFFFABRRRQAUUUUAFFFFAH/9k%3D\">"
      ]
     },
     "metadata": {},
     "output_type": "display_data"
    }
   ],
   "source": [
    "s.run(tf.global_variables_initializer())\n",
    "\n",
    "BATCH_SIZE = 512\n",
    "EPOCHS = 40\n",
    "\n",
    "# for logging the progress right here in Jupyter (for those who don't have TensorBoard)\n",
    "simpleTrainingCurves = matplotlib_utils.SimpleTrainingCurves(\"cross-entropy\", \"accuracy\")\n",
    "\n",
    "for epoch in range(EPOCHS):  # we finish an epoch when we've looked at all training samples\n",
    "    \n",
    "    batch_losses = []\n",
    "    for batch_start in range(0, X_train_flat.shape[0], BATCH_SIZE):  # data is already shuffled\n",
    "        _, batch_loss = s.run([step, loss], {input_X: X_train_flat[batch_start:batch_start+BATCH_SIZE], \n",
    "                                             input_y: y_train_oh[batch_start:batch_start+BATCH_SIZE]})\n",
    "        # collect batch losses, this is almost free as we need a forward pass for backprop anyway\n",
    "        batch_losses.append(batch_loss)\n",
    "\n",
    "    train_loss = np.mean(batch_losses)\n",
    "    val_loss = s.run(loss, {input_X: X_val_flat, input_y: y_val_oh})  # this part is usually small\n",
    "    train_accuracy = accuracy_score(y_train, s.run(classes, {input_X: X_train_flat}))  # this is slow and usually skipped\n",
    "    valid_accuracy = accuracy_score(y_val, s.run(classes, {input_X: X_val_flat}))  \n",
    "    simpleTrainingCurves.add(train_loss, val_loss, train_accuracy, valid_accuracy)"
   ]
  },
  {
   "cell_type": "markdown",
   "metadata": {},
   "source": [
    "# Submit a linear model"
   ]
  },
  {
   "cell_type": "code",
   "execution_count": 22,
   "metadata": {
    "collapsed": true
   },
   "outputs": [],
   "source": [
    "## GRADED PART, DO NOT CHANGE!\n",
    "# Testing shapes \n",
    "grader.set_answer(\"9XaAS\", grading_utils.get_tensors_shapes_string([W, b, input_X, input_y, logits, probas, classes]))\n",
    "# Validation loss\n",
    "grader.set_answer(\"vmogZ\", s.run(loss, {input_X: X_val_flat, input_y: y_val_oh}))\n",
    "# Validation accuracy\n",
    "grader.set_answer(\"RMv95\", accuracy_score(y_val, s.run(classes, {input_X: X_val_flat})))"
   ]
  },
  {
   "cell_type": "code",
   "execution_count": 24,
   "metadata": {},
   "outputs": [
    {
     "name": "stdout",
     "output_type": "stream",
     "text": [
      "Submitted to Coursera platform. See results on assignment page!\n"
     ]
    }
   ],
   "source": [
    "# you can make submission with answers so far to check yourself at this stage\n",
    "grader.submit(COURSERA_EMAIL, COURSERA_TOKEN)"
   ]
  },
  {
   "cell_type": "markdown",
   "metadata": {},
   "source": [
    "# Adding more layers"
   ]
  },
  {
   "cell_type": "markdown",
   "metadata": {},
   "source": [
    "Let's add a couple of hidden layers and see how that improves our validation accuracy.\n",
    "\n",
    "Previously we've coded a dense layer with matrix multiplication by hand. \n",
    "But this is not convinient, you have to create a lot of variables and your code becomes a mess. \n",
    "In TensorFlow there's an easier way to make a dense layer:\n",
    "```python\n",
    "hidden1 = tf.layers.dense(inputs, 256, activation=tf.nn.sigmoid)\n",
    "```\n",
    "\n",
    "That will create all the necessary variables automatically.\n",
    "Here you can also choose an activation function (rememeber that we need it for a hidden layer!).\n",
    "\n",
    "Now add 2 hidden layers to the code above and restart training.\n",
    "You're aiming for ~0.97 validation accuracy here."
   ]
  },
  {
   "cell_type": "code",
   "execution_count": 54,
   "metadata": {},
   "outputs": [],
   "source": [
    "# you can write the code here to get a new `step` operation and then run cells with training loop above\n",
    "# name your variables in the same way (e.g. logits, probas, classes, etc) for safety\n",
    "### YOUR CODE HERE ###\n",
    "# Compute predictions\n",
    "regularizer=tf.contrib.layers.l1_regularizer(0.1)\n",
    "A1 = tf.layers.dense(input_X,100,activation=tf.nn.sigmoid,name='layer1',kernel_regularizer=regularizer)\n",
    "logits=tf.layers.dense(A1,10,activation=None,name='output_layer',kernel_regularizer=regularizer)\n",
    "\n",
    "probas = tf.nn.softmax(logits)### YOUR CODE HERE ### apply tf.nn.softmax to logits\n",
    "classes = tf.argmax(probas,axis=-1)### YOUR CODE HERE ### apply tf.argmax to find a class index with highest probability\n",
    "\n",
    "# Loss should be a scalar number: average loss over all the objects with tf.reduce_mean().\n",
    "# Use tf.nn.softmax_cross_entropy_with_logits on top of one-hot encoded input_y and logits.\n",
    "# It is identical to calculating cross-entropy on top of probas, but is more numerically friendly (read the docs).\n",
    "loss = tf.reduce_mean(tf.nn.softmax_cross_entropy_with_logits(labels=input_y,logits=logits))### YOUR CODE HERE ### cross-entropy loss\n",
    "\n",
    "# Use a default tf.train.AdamOptimizer to get an SGD step\n",
    "step = tf.train.AdamOptimizer().minimize(loss)### YOUR CODE HERE ### optimizer step that minimizes the loss"
   ]
  },
  {
   "cell_type": "code",
   "execution_count": 39,
   "metadata": {},
   "outputs": [
    {
     "name": "stdout",
     "output_type": "stream",
     "text": [
      "Tensor(\"output_layer/BiasAdd:0\", shape=(?, 10), dtype=float32)\n"
     ]
    }
   ],
   "source": [
    "print(logits)"
   ]
  },
  {
   "cell_type": "markdown",
   "metadata": {},
   "source": [
    "# Submit a 2-layer MLP\n",
    "Run these cells after training a 2-layer MLP"
   ]
  },
  {
   "cell_type": "code",
   "execution_count": 27,
   "metadata": {
    "collapsed": true
   },
   "outputs": [],
   "source": [
    "## GRADED PART, DO NOT CHANGE!\n",
    "# Validation loss for MLP\n",
    "grader.set_answer(\"i8bgs\", s.run(loss, {input_X: X_val_flat, input_y: y_val_oh}))\n",
    "# Validation accuracy for MLP\n",
    "grader.set_answer(\"rE763\", accuracy_score(y_val, s.run(classes, {input_X: X_val_flat})))"
   ]
  },
  {
   "cell_type": "code",
   "execution_count": 28,
   "metadata": {},
   "outputs": [
    {
     "name": "stdout",
     "output_type": "stream",
     "text": [
      "Submitted to Coursera platform. See results on assignment page!\n"
     ]
    }
   ],
   "source": [
    "# you can make submission with answers so far to check yourself at this stage\n",
    "grader.submit(COURSERA_EMAIL, COURSERA_TOKEN)"
   ]
  },
  {
   "cell_type": "code",
   "execution_count": null,
   "metadata": {
    "collapsed": true
   },
   "outputs": [],
   "source": []
  }
 ],
 "metadata": {
  "kernelspec": {
   "display_name": "Python 3",
   "language": "python",
   "name": "python3"
  },
  "language_info": {
   "codemirror_mode": {
    "name": "ipython",
    "version": 3
   },
   "file_extension": ".py",
   "mimetype": "text/x-python",
   "name": "python",
   "nbconvert_exporter": "python",
   "pygments_lexer": "ipython3",
   "version": "3.6.0"
  }
 },
 "nbformat": 4,
 "nbformat_minor": 1
}
